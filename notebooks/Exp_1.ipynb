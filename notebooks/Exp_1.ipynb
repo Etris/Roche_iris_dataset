{
 "cells": [
  {
   "cell_type": "markdown",
   "metadata": {},
   "source": [
    "<h1>Code4Life academy recrutation - Iris Dataset"
   ]
  },
  {
   "cell_type": "markdown",
   "metadata": {},
   "source": [
    "<h2> Basic import, data import, cleaning & data preparing</h2>"
   ]
  },
  {
   "cell_type": "markdown",
   "metadata": {},
   "source": [
    "Let start with some necessary imports "
   ]
  },
  {
   "cell_type": "code",
   "execution_count": 165,
   "metadata": {},
   "outputs": [],
   "source": [
    "import numpy as np # linear algebra, calculations\n",
    "import pandas as pd #pandas - data processing, data frames, csv import\n",
    "import seaborn as sns #library with more specialised plots\n",
    "import matplotlib.pyplot as plt #plotting\n",
    "\n",
    "from pandas.plotting import andrews_curves, parallel_coordinates, radviz #plots that i'll use in visualization part"
   ]
  },
  {
   "cell_type": "code",
   "execution_count": 166,
   "metadata": {},
   "outputs": [],
   "source": [
    "import warnings \n",
    "warnings.filterwarnings(\"ignore\") #ignoring seaborn & other libraries unneccessary warnings e.g. information about changes in next versions"
   ]
  },
  {
   "cell_type": "code",
   "execution_count": 167,
   "metadata": {},
   "outputs": [],
   "source": [
    "sns.set(style=\"dark\", color_codes=True) #setting styles of plots"
   ]
  },
  {
   "cell_type": "markdown",
   "metadata": {},
   "source": [
    "After some imports and config we can start with reading data; take a look into a file:\n",
    "\n",
    "\"Sepal.Length\"|\"Sepal.Width\"|\"Petal.Length\"|\"Petal.Width\"|\"Species\"  \n",
    "\"1\"|5.1|3.5|1.4|\"0.2\"|\"setosa\"  \n",
    "\"2\"|4.9|3|1.4|\"0.2\"|\"setosa\"\n",
    "\n",
    "As we can see, delimiter is \"|\", not \",\"; as we can also see - we have a header line in file, so using \n",
    ">pd.read_csv\n",
    "\n",
    "will read it  - or we can use 'header' parameter to define it manually."
   ]
  },
  {
   "cell_type": "code",
   "execution_count": 168,
   "metadata": {},
   "outputs": [],
   "source": [
    "data = pd.read_csv('../data/raw/iris_dataset.csv', delimiter=\"|\") #importing dataset into python"
   ]
  },
  {
   "cell_type": "code",
   "execution_count": 169,
   "metadata": {},
   "outputs": [
    {
     "data": {
      "text/html": [
       "<div>\n",
       "<style scoped>\n",
       "    .dataframe tbody tr th:only-of-type {\n",
       "        vertical-align: middle;\n",
       "    }\n",
       "\n",
       "    .dataframe tbody tr th {\n",
       "        vertical-align: top;\n",
       "    }\n",
       "\n",
       "    .dataframe thead th {\n",
       "        text-align: right;\n",
       "    }\n",
       "</style>\n",
       "<table border=\"1\" class=\"dataframe\">\n",
       "  <thead>\n",
       "    <tr style=\"text-align: right;\">\n",
       "      <th></th>\n",
       "      <th>Sepal.Length</th>\n",
       "      <th>Sepal.Width</th>\n",
       "      <th>Petal.Length</th>\n",
       "      <th>Petal.Width</th>\n",
       "      <th>Species</th>\n",
       "    </tr>\n",
       "  </thead>\n",
       "  <tbody>\n",
       "    <tr>\n",
       "      <th>1</th>\n",
       "      <td>5.1</td>\n",
       "      <td>3.5</td>\n",
       "      <td>1.4</td>\n",
       "      <td>0.2</td>\n",
       "      <td>setosa</td>\n",
       "    </tr>\n",
       "    <tr>\n",
       "      <th>2</th>\n",
       "      <td>4.9</td>\n",
       "      <td>3.0</td>\n",
       "      <td>1.4</td>\n",
       "      <td>0.2</td>\n",
       "      <td>setosa</td>\n",
       "    </tr>\n",
       "    <tr>\n",
       "      <th>3</th>\n",
       "      <td>4.7</td>\n",
       "      <td>3.2</td>\n",
       "      <td>1.3</td>\n",
       "      <td>0.2</td>\n",
       "      <td>setosa</td>\n",
       "    </tr>\n",
       "    <tr>\n",
       "      <th>4</th>\n",
       "      <td>4.6</td>\n",
       "      <td>3.1</td>\n",
       "      <td>1.5</td>\n",
       "      <td>0.2</td>\n",
       "      <td>setosa</td>\n",
       "    </tr>\n",
       "    <tr>\n",
       "      <th>5</th>\n",
       "      <td>5.0</td>\n",
       "      <td>3.6</td>\n",
       "      <td>1.4</td>\n",
       "      <td>0.2</td>\n",
       "      <td>setosa</td>\n",
       "    </tr>\n",
       "  </tbody>\n",
       "</table>\n",
       "</div>"
      ],
      "text/plain": [
       "   Sepal.Length  Sepal.Width  Petal.Length Petal.Width Species\n",
       "1           5.1          3.5           1.4         0.2  setosa\n",
       "2           4.9          3.0           1.4         0.2  setosa\n",
       "3           4.7          3.2           1.3         0.2  setosa\n",
       "4           4.6          3.1           1.5         0.2  setosa\n",
       "5           5.0          3.6           1.4         0.2  setosa"
      ]
     },
     "execution_count": 169,
     "metadata": {},
     "output_type": "execute_result"
    }
   ],
   "source": [
    "data.head()"
   ]
  },
  {
   "cell_type": "code",
   "execution_count": 170,
   "metadata": {},
   "outputs": [
    {
     "data": {
      "text/html": [
       "<div>\n",
       "<style scoped>\n",
       "    .dataframe tbody tr th:only-of-type {\n",
       "        vertical-align: middle;\n",
       "    }\n",
       "\n",
       "    .dataframe tbody tr th {\n",
       "        vertical-align: top;\n",
       "    }\n",
       "\n",
       "    .dataframe thead th {\n",
       "        text-align: right;\n",
       "    }\n",
       "</style>\n",
       "<table border=\"1\" class=\"dataframe\">\n",
       "  <thead>\n",
       "    <tr style=\"text-align: right;\">\n",
       "      <th></th>\n",
       "      <th>Sepal.Length</th>\n",
       "      <th>Sepal.Width</th>\n",
       "      <th>Petal.Length</th>\n",
       "    </tr>\n",
       "  </thead>\n",
       "  <tbody>\n",
       "    <tr>\n",
       "      <th>count</th>\n",
       "      <td>150.000000</td>\n",
       "      <td>149.000000</td>\n",
       "      <td>150.000000</td>\n",
       "    </tr>\n",
       "    <tr>\n",
       "      <th>mean</th>\n",
       "      <td>5.779333</td>\n",
       "      <td>3.061745</td>\n",
       "      <td>3.758000</td>\n",
       "    </tr>\n",
       "    <tr>\n",
       "      <th>std</th>\n",
       "      <td>1.197721</td>\n",
       "      <td>0.433963</td>\n",
       "      <td>1.765298</td>\n",
       "    </tr>\n",
       "    <tr>\n",
       "      <th>min</th>\n",
       "      <td>-4.800000</td>\n",
       "      <td>2.000000</td>\n",
       "      <td>1.000000</td>\n",
       "    </tr>\n",
       "    <tr>\n",
       "      <th>25%</th>\n",
       "      <td>5.100000</td>\n",
       "      <td>2.800000</td>\n",
       "      <td>1.600000</td>\n",
       "    </tr>\n",
       "    <tr>\n",
       "      <th>50%</th>\n",
       "      <td>5.800000</td>\n",
       "      <td>3.000000</td>\n",
       "      <td>4.350000</td>\n",
       "    </tr>\n",
       "    <tr>\n",
       "      <th>75%</th>\n",
       "      <td>6.400000</td>\n",
       "      <td>3.300000</td>\n",
       "      <td>5.100000</td>\n",
       "    </tr>\n",
       "    <tr>\n",
       "      <th>max</th>\n",
       "      <td>7.900000</td>\n",
       "      <td>4.400000</td>\n",
       "      <td>6.900000</td>\n",
       "    </tr>\n",
       "  </tbody>\n",
       "</table>\n",
       "</div>"
      ],
      "text/plain": [
       "       Sepal.Length  Sepal.Width  Petal.Length\n",
       "count    150.000000   149.000000    150.000000\n",
       "mean       5.779333     3.061745      3.758000\n",
       "std        1.197721     0.433963      1.765298\n",
       "min       -4.800000     2.000000      1.000000\n",
       "25%        5.100000     2.800000      1.600000\n",
       "50%        5.800000     3.000000      4.350000\n",
       "75%        6.400000     3.300000      5.100000\n",
       "max        7.900000     4.400000      6.900000"
      ]
     },
     "execution_count": 170,
     "metadata": {},
     "output_type": "execute_result"
    }
   ],
   "source": [
    "data.describe()"
   ]
  },
  {
   "cell_type": "markdown",
   "metadata": {},
   "source": [
    "So, before we start working with data - we should work on a copy of data"
   ]
  },
  {
   "cell_type": "code",
   "execution_count": 171,
   "metadata": {},
   "outputs": [
    {
     "data": {
      "text/html": [
       "<div>\n",
       "<style scoped>\n",
       "    .dataframe tbody tr th:only-of-type {\n",
       "        vertical-align: middle;\n",
       "    }\n",
       "\n",
       "    .dataframe tbody tr th {\n",
       "        vertical-align: top;\n",
       "    }\n",
       "\n",
       "    .dataframe thead th {\n",
       "        text-align: right;\n",
       "    }\n",
       "</style>\n",
       "<table border=\"1\" class=\"dataframe\">\n",
       "  <thead>\n",
       "    <tr style=\"text-align: right;\">\n",
       "      <th></th>\n",
       "      <th>SepalLength</th>\n",
       "      <th>SepalWidth</th>\n",
       "      <th>PetalLength</th>\n",
       "    </tr>\n",
       "  </thead>\n",
       "  <tbody>\n",
       "    <tr>\n",
       "      <th>count</th>\n",
       "      <td>150.000000</td>\n",
       "      <td>149.000000</td>\n",
       "      <td>150.000000</td>\n",
       "    </tr>\n",
       "    <tr>\n",
       "      <th>mean</th>\n",
       "      <td>5.779333</td>\n",
       "      <td>3.061745</td>\n",
       "      <td>3.758000</td>\n",
       "    </tr>\n",
       "    <tr>\n",
       "      <th>std</th>\n",
       "      <td>1.197721</td>\n",
       "      <td>0.433963</td>\n",
       "      <td>1.765298</td>\n",
       "    </tr>\n",
       "    <tr>\n",
       "      <th>min</th>\n",
       "      <td>-4.800000</td>\n",
       "      <td>2.000000</td>\n",
       "      <td>1.000000</td>\n",
       "    </tr>\n",
       "    <tr>\n",
       "      <th>25%</th>\n",
       "      <td>5.100000</td>\n",
       "      <td>2.800000</td>\n",
       "      <td>1.600000</td>\n",
       "    </tr>\n",
       "    <tr>\n",
       "      <th>50%</th>\n",
       "      <td>5.800000</td>\n",
       "      <td>3.000000</td>\n",
       "      <td>4.350000</td>\n",
       "    </tr>\n",
       "    <tr>\n",
       "      <th>75%</th>\n",
       "      <td>6.400000</td>\n",
       "      <td>3.300000</td>\n",
       "      <td>5.100000</td>\n",
       "    </tr>\n",
       "    <tr>\n",
       "      <th>max</th>\n",
       "      <td>7.900000</td>\n",
       "      <td>4.400000</td>\n",
       "      <td>6.900000</td>\n",
       "    </tr>\n",
       "  </tbody>\n",
       "</table>\n",
       "</div>"
      ],
      "text/plain": [
       "       SepalLength  SepalWidth  PetalLength\n",
       "count   150.000000  149.000000   150.000000\n",
       "mean      5.779333    3.061745     3.758000\n",
       "std       1.197721    0.433963     1.765298\n",
       "min      -4.800000    2.000000     1.000000\n",
       "25%       5.100000    2.800000     1.600000\n",
       "50%       5.800000    3.000000     4.350000\n",
       "75%       6.400000    3.300000     5.100000\n",
       "max       7.900000    4.400000     6.900000"
      ]
     },
     "execution_count": 171,
     "metadata": {},
     "output_type": "execute_result"
    }
   ],
   "source": [
    "data_copy = data.copy()\n",
    "data_copy.columns = ['SepalLength', 'SepalWidth', 'PetalLength', 'PetalWidth',\n",
    "       'Species']\n",
    "data_copy.describe()"
   ]
  },
  {
   "cell_type": "code",
   "execution_count": 172,
   "metadata": {},
   "outputs": [
    {
     "data": {
      "text/plain": [
       "SepalWidth    1\n",
       "dtype: int64"
      ]
     },
     "execution_count": 172,
     "metadata": {},
     "output_type": "execute_result"
    }
   ],
   "source": [
    "null_columns=data_copy.columns[data_copy.isnull().any()]\n",
    "data_copy[null_columns].isnull().sum()"
   ]
  },
  {
   "cell_type": "markdown",
   "metadata": {},
   "source": [
    "Ooops, as we see there - there is one value missing in Sepal.width - we have to handle it before we can start working with data.  \n",
    "As we can also see - one column in not included in this summary."
   ]
  },
  {
   "cell_type": "code",
   "execution_count": 173,
   "metadata": {},
   "outputs": [
    {
     "name": "stdout",
     "output_type": "stream",
     "text": [
      "    SepalWidth\n",
      "82         NaN\n"
     ]
    }
   ],
   "source": [
    "print(data_copy[data_copy.isnull().any(axis=1)][null_columns].head())"
   ]
  },
  {
   "cell_type": "markdown",
   "metadata": {},
   "source": [
    "So at row number 82 we have missing value - let's check it also on file, if there is problem with reading data, or value is really missing - in this case we can handle it, because it's only one value.\n",
    ">\"82\"|5.5|NA|3.7|\"1\"|\"versicolor\"  \n",
    "\n",
    "So we have there missing value. Another interesting thing - we have an quotation mark at index and one column - let's check these one column, what was not included in summary of data."
   ]
  },
  {
   "cell_type": "code",
   "execution_count": 174,
   "metadata": {},
   "outputs": [
    {
     "name": "stdout",
     "output_type": "stream",
     "text": [
      "0.2    29\n",
      "1.3    13\n",
      "1.8    12\n",
      "1.5    12\n",
      "2.3     8\n",
      "1.4     8\n",
      "1       7\n",
      "0.4     7\n",
      "0.3     7\n",
      "2       6\n",
      "2.1     6\n",
      "0.1     5\n",
      "1.2     5\n",
      "1.9     5\n",
      "1.6     4\n",
      "2.5     3\n",
      "2.4     3\n",
      "1.1     3\n",
      "2.2     2\n",
      "1.7     2\n",
      "2,2     1\n",
      "0.6     1\n",
      "0.5     1\n",
      "Name: PetalWidth, dtype: int64\n"
     ]
    }
   ],
   "source": [
    "print(data_copy['PetalWidth'].value_counts())"
   ]
  },
  {
   "cell_type": "code",
   "execution_count": 21,
   "metadata": {},
   "outputs": [
    {
     "name": "stdout",
     "output_type": "stream",
     "text": [
      "SepalLength    float64\n",
      "SepalWidth     float64\n",
      "PetalLength    float64\n",
      "PetalWidth      object\n",
      "Species         object\n",
      "dtype: object\n"
     ]
    }
   ],
   "source": [
    "print(data_copy.dtypes)"
   ]
  },
  {
   "cell_type": "markdown",
   "metadata": {},
   "source": [
    "As we can see, one value has \",\", the remaining values have a dot between numbers - let handle it now. And these values are now stored as a string (object type)!"
   ]
  },
  {
   "cell_type": "code",
   "execution_count": 22,
   "metadata": {},
   "outputs": [],
   "source": [
    "data_copy['PetalWidth'] = data_copy['PetalWidth'].apply(lambda x: x.replace(',','.'))"
   ]
  },
  {
   "cell_type": "code",
   "execution_count": 23,
   "metadata": {},
   "outputs": [
    {
     "name": "stdout",
     "output_type": "stream",
     "text": [
      "0.2    29\n",
      "1.3    13\n",
      "1.5    12\n",
      "1.8    12\n",
      "1.4     8\n",
      "2.3     8\n",
      "0.3     7\n",
      "1       7\n",
      "0.4     7\n",
      "2.1     6\n",
      "2       6\n",
      "0.1     5\n",
      "1.2     5\n",
      "1.9     5\n",
      "1.6     4\n",
      "2.5     3\n",
      "2.4     3\n",
      "2.2     3\n",
      "1.1     3\n",
      "1.7     2\n",
      "0.6     1\n",
      "0.5     1\n",
      "Name: PetalWidth, dtype: int64\n"
     ]
    }
   ],
   "source": [
    "print(data_copy['PetalWidth'].value_counts())"
   ]
  },
  {
   "cell_type": "markdown",
   "metadata": {},
   "source": [
    "We can now convert into float values column"
   ]
  },
  {
   "cell_type": "code",
   "execution_count": 24,
   "metadata": {},
   "outputs": [
    {
     "data": {
      "text/html": [
       "<div>\n",
       "<style scoped>\n",
       "    .dataframe tbody tr th:only-of-type {\n",
       "        vertical-align: middle;\n",
       "    }\n",
       "\n",
       "    .dataframe tbody tr th {\n",
       "        vertical-align: top;\n",
       "    }\n",
       "\n",
       "    .dataframe thead th {\n",
       "        text-align: right;\n",
       "    }\n",
       "</style>\n",
       "<table border=\"1\" class=\"dataframe\">\n",
       "  <thead>\n",
       "    <tr style=\"text-align: right;\">\n",
       "      <th></th>\n",
       "      <th>SepalLength</th>\n",
       "      <th>SepalWidth</th>\n",
       "      <th>PetalLength</th>\n",
       "      <th>PetalWidth</th>\n",
       "    </tr>\n",
       "  </thead>\n",
       "  <tbody>\n",
       "    <tr>\n",
       "      <th>count</th>\n",
       "      <td>150.000000</td>\n",
       "      <td>149.000000</td>\n",
       "      <td>150.000000</td>\n",
       "      <td>150.000000</td>\n",
       "    </tr>\n",
       "    <tr>\n",
       "      <th>mean</th>\n",
       "      <td>5.779333</td>\n",
       "      <td>3.061745</td>\n",
       "      <td>3.758000</td>\n",
       "      <td>1.199333</td>\n",
       "    </tr>\n",
       "    <tr>\n",
       "      <th>std</th>\n",
       "      <td>1.197721</td>\n",
       "      <td>0.433963</td>\n",
       "      <td>1.765298</td>\n",
       "      <td>0.762238</td>\n",
       "    </tr>\n",
       "    <tr>\n",
       "      <th>min</th>\n",
       "      <td>-4.800000</td>\n",
       "      <td>2.000000</td>\n",
       "      <td>1.000000</td>\n",
       "      <td>0.100000</td>\n",
       "    </tr>\n",
       "    <tr>\n",
       "      <th>25%</th>\n",
       "      <td>5.100000</td>\n",
       "      <td>2.800000</td>\n",
       "      <td>1.600000</td>\n",
       "      <td>0.300000</td>\n",
       "    </tr>\n",
       "    <tr>\n",
       "      <th>50%</th>\n",
       "      <td>5.800000</td>\n",
       "      <td>3.000000</td>\n",
       "      <td>4.350000</td>\n",
       "      <td>1.300000</td>\n",
       "    </tr>\n",
       "    <tr>\n",
       "      <th>75%</th>\n",
       "      <td>6.400000</td>\n",
       "      <td>3.300000</td>\n",
       "      <td>5.100000</td>\n",
       "      <td>1.800000</td>\n",
       "    </tr>\n",
       "    <tr>\n",
       "      <th>max</th>\n",
       "      <td>7.900000</td>\n",
       "      <td>4.400000</td>\n",
       "      <td>6.900000</td>\n",
       "      <td>2.500000</td>\n",
       "    </tr>\n",
       "  </tbody>\n",
       "</table>\n",
       "</div>"
      ],
      "text/plain": [
       "       SepalLength  SepalWidth  PetalLength  PetalWidth\n",
       "count   150.000000  149.000000   150.000000  150.000000\n",
       "mean      5.779333    3.061745     3.758000    1.199333\n",
       "std       1.197721    0.433963     1.765298    0.762238\n",
       "min      -4.800000    2.000000     1.000000    0.100000\n",
       "25%       5.100000    2.800000     1.600000    0.300000\n",
       "50%       5.800000    3.000000     4.350000    1.300000\n",
       "75%       6.400000    3.300000     5.100000    1.800000\n",
       "max       7.900000    4.400000     6.900000    2.500000"
      ]
     },
     "execution_count": 24,
     "metadata": {},
     "output_type": "execute_result"
    }
   ],
   "source": [
    "data_copy['PetalWidth'] = data_copy['PetalWidth'].astype(float)\n",
    "data_copy.describe()"
   ]
  },
  {
   "cell_type": "code",
   "execution_count": 25,
   "metadata": {},
   "outputs": [
    {
     "data": {
      "text/plain": [
       "SepalLength    float64\n",
       "SepalWidth     float64\n",
       "PetalLength    float64\n",
       "PetalWidth     float64\n",
       "Species         object\n",
       "dtype: object"
      ]
     },
     "execution_count": 25,
     "metadata": {},
     "output_type": "execute_result"
    }
   ],
   "source": [
    "data_copy.dtypes"
   ]
  },
  {
   "cell_type": "markdown",
   "metadata": {},
   "source": [
    "One column less - let's check other, if they do not contain something bad"
   ]
  },
  {
   "cell_type": "markdown",
   "metadata": {},
   "source": [
    "Looking almost good, but.. values in these columns cannot be below 0! So, we have one \n",
    "> -4.8  \n",
    "\n",
    "value at Sepal.Length column. We should now ask experts/client about it - because we have three options now:\n",
    "* to remove row (but we have small dataset - but this way will prevent us from distortion of data)\n",
    "* to replace negative value with abs values (if it fits to other values (probably from their category) - is between min and max of other samples)\n",
    "* or just use mean value - from whole column - or just from this category\n",
    "\n",
    "so at this place - we should handle it with one of possible ways. Or maybe we should try every possible solution. We should also try this for missing value Sepal.Width.  \n",
    "But this time, we will try with two possible solutions:\n",
    "* one, with dropping row with missing/incorrect values\n",
    "* second, with using mean value from category for missing/incorrect values"
   ]
  },
  {
   "cell_type": "markdown",
   "metadata": {},
   "source": [
    "<h3> Handling missing/incorrect values </h3>"
   ]
  },
  {
   "cell_type": "code",
   "execution_count": 26,
   "metadata": {},
   "outputs": [
    {
     "data": {
      "text/html": [
       "<div>\n",
       "<style scoped>\n",
       "    .dataframe tbody tr th:only-of-type {\n",
       "        vertical-align: middle;\n",
       "    }\n",
       "\n",
       "    .dataframe tbody tr th {\n",
       "        vertical-align: top;\n",
       "    }\n",
       "\n",
       "    .dataframe thead th {\n",
       "        text-align: right;\n",
       "    }\n",
       "</style>\n",
       "<table border=\"1\" class=\"dataframe\">\n",
       "  <thead>\n",
       "    <tr style=\"text-align: right;\">\n",
       "      <th></th>\n",
       "      <th>SepalLength</th>\n",
       "      <th>SepalWidth</th>\n",
       "      <th>PetalLength</th>\n",
       "      <th>PetalWidth</th>\n",
       "    </tr>\n",
       "  </thead>\n",
       "  <tbody>\n",
       "    <tr>\n",
       "      <th>count</th>\n",
       "      <td>148.000000</td>\n",
       "      <td>148.000000</td>\n",
       "      <td>148.000000</td>\n",
       "      <td>148.000000</td>\n",
       "    </tr>\n",
       "    <tr>\n",
       "      <th>mean</th>\n",
       "      <td>5.852703</td>\n",
       "      <td>3.059459</td>\n",
       "      <td>3.770946</td>\n",
       "      <td>1.207432</td>\n",
       "    </tr>\n",
       "    <tr>\n",
       "      <th>std</th>\n",
       "      <td>0.828690</td>\n",
       "      <td>0.434536</td>\n",
       "      <td>1.770593</td>\n",
       "      <td>0.762746</td>\n",
       "    </tr>\n",
       "    <tr>\n",
       "      <th>min</th>\n",
       "      <td>4.300000</td>\n",
       "      <td>2.000000</td>\n",
       "      <td>1.000000</td>\n",
       "      <td>0.100000</td>\n",
       "    </tr>\n",
       "    <tr>\n",
       "      <th>25%</th>\n",
       "      <td>5.100000</td>\n",
       "      <td>2.800000</td>\n",
       "      <td>1.575000</td>\n",
       "      <td>0.300000</td>\n",
       "    </tr>\n",
       "    <tr>\n",
       "      <th>50%</th>\n",
       "      <td>5.800000</td>\n",
       "      <td>3.000000</td>\n",
       "      <td>4.400000</td>\n",
       "      <td>1.300000</td>\n",
       "    </tr>\n",
       "    <tr>\n",
       "      <th>75%</th>\n",
       "      <td>6.400000</td>\n",
       "      <td>3.300000</td>\n",
       "      <td>5.100000</td>\n",
       "      <td>1.800000</td>\n",
       "    </tr>\n",
       "    <tr>\n",
       "      <th>max</th>\n",
       "      <td>7.900000</td>\n",
       "      <td>4.400000</td>\n",
       "      <td>6.900000</td>\n",
       "      <td>2.500000</td>\n",
       "    </tr>\n",
       "  </tbody>\n",
       "</table>\n",
       "</div>"
      ],
      "text/plain": [
       "       SepalLength  SepalWidth  PetalLength  PetalWidth\n",
       "count   148.000000  148.000000   148.000000  148.000000\n",
       "mean      5.852703    3.059459     3.770946    1.207432\n",
       "std       0.828690    0.434536     1.770593    0.762746\n",
       "min       4.300000    2.000000     1.000000    0.100000\n",
       "25%       5.100000    2.800000     1.575000    0.300000\n",
       "50%       5.800000    3.000000     4.400000    1.300000\n",
       "75%       6.400000    3.300000     5.100000    1.800000\n",
       "max       7.900000    4.400000     6.900000    2.500000"
      ]
     },
     "execution_count": 26,
     "metadata": {},
     "output_type": "execute_result"
    }
   ],
   "source": [
    "test_data_dropped = data_copy.copy()\n",
    "test_data_dropped = test_data_dropped[test_data_dropped['SepalLength'] > 0]\n",
    "test_data_dropped= test_data_dropped.dropna(axis=0, how='any', thresh=None, subset=None, inplace=False)\n",
    "test_data_dropped.describe()"
   ]
  },
  {
   "cell_type": "code",
   "execution_count": 27,
   "metadata": {},
   "outputs": [
    {
     "data": {
      "text/html": [
       "<div>\n",
       "<style scoped>\n",
       "    .dataframe tbody tr th:only-of-type {\n",
       "        vertical-align: middle;\n",
       "    }\n",
       "\n",
       "    .dataframe tbody tr th {\n",
       "        vertical-align: top;\n",
       "    }\n",
       "\n",
       "    .dataframe thead th {\n",
       "        text-align: right;\n",
       "    }\n",
       "</style>\n",
       "<table border=\"1\" class=\"dataframe\">\n",
       "  <thead>\n",
       "    <tr style=\"text-align: right;\">\n",
       "      <th></th>\n",
       "      <th>SepalLength</th>\n",
       "      <th>SepalWidth</th>\n",
       "      <th>PetalLength</th>\n",
       "      <th>PetalWidth</th>\n",
       "    </tr>\n",
       "  </thead>\n",
       "  <tbody>\n",
       "    <tr>\n",
       "      <th>count</th>\n",
       "      <td>150.000000</td>\n",
       "      <td>150.000000</td>\n",
       "      <td>150.000000</td>\n",
       "      <td>150.000000</td>\n",
       "    </tr>\n",
       "    <tr>\n",
       "      <th>mean</th>\n",
       "      <td>5.850336</td>\n",
       "      <td>3.061745</td>\n",
       "      <td>3.758000</td>\n",
       "      <td>1.199333</td>\n",
       "    </tr>\n",
       "    <tr>\n",
       "      <th>std</th>\n",
       "      <td>0.823613</td>\n",
       "      <td>0.432504</td>\n",
       "      <td>1.765298</td>\n",
       "      <td>0.762238</td>\n",
       "    </tr>\n",
       "    <tr>\n",
       "      <th>min</th>\n",
       "      <td>4.300000</td>\n",
       "      <td>2.000000</td>\n",
       "      <td>1.000000</td>\n",
       "      <td>0.100000</td>\n",
       "    </tr>\n",
       "    <tr>\n",
       "      <th>25%</th>\n",
       "      <td>5.100000</td>\n",
       "      <td>2.800000</td>\n",
       "      <td>1.600000</td>\n",
       "      <td>0.300000</td>\n",
       "    </tr>\n",
       "    <tr>\n",
       "      <th>50%</th>\n",
       "      <td>5.800000</td>\n",
       "      <td>3.000000</td>\n",
       "      <td>4.350000</td>\n",
       "      <td>1.300000</td>\n",
       "    </tr>\n",
       "    <tr>\n",
       "      <th>75%</th>\n",
       "      <td>6.400000</td>\n",
       "      <td>3.300000</td>\n",
       "      <td>5.100000</td>\n",
       "      <td>1.800000</td>\n",
       "    </tr>\n",
       "    <tr>\n",
       "      <th>max</th>\n",
       "      <td>7.900000</td>\n",
       "      <td>4.400000</td>\n",
       "      <td>6.900000</td>\n",
       "      <td>2.500000</td>\n",
       "    </tr>\n",
       "  </tbody>\n",
       "</table>\n",
       "</div>"
      ],
      "text/plain": [
       "       SepalLength  SepalWidth  PetalLength  PetalWidth\n",
       "count   150.000000  150.000000   150.000000  150.000000\n",
       "mean      5.850336    3.061745     3.758000    1.199333\n",
       "std       0.823613    0.432504     1.765298    0.762238\n",
       "min       4.300000    2.000000     1.000000    0.100000\n",
       "25%       5.100000    2.800000     1.600000    0.300000\n",
       "50%       5.800000    3.000000     4.350000    1.300000\n",
       "75%       6.400000    3.300000     5.100000    1.800000\n",
       "max       7.900000    4.400000     6.900000    2.500000"
      ]
     },
     "execution_count": 27,
     "metadata": {},
     "output_type": "execute_result"
    }
   ],
   "source": [
    "test_data_mean = data_copy.copy()\n",
    "test_data_mean = test_data_mean.assign(b = test_data_mean['SepalLength'].where(test_data_mean['SepalLength'].ge(0), np.nan))\n",
    "test_data_mean['SepalLength'] = test_data_mean['b']\n",
    "test_data_mean = test_data_mean.drop(columns='b')\n",
    "test_data_mean = test_data_mean.fillna(test_data_mean.mean())\n",
    "test_data_mean.describe()"
   ]
  },
  {
   "cell_type": "code",
   "execution_count": 28,
   "metadata": {},
   "outputs": [],
   "source": [
    "#save this two frames as a separate csv files in /data/processed\n",
    "test_data_dropped.to_csv(\"../data/processed/iris_drop_missing.csv\", sep=\",\", index=False)\n",
    "test_data_mean.to_csv(\"../data/processed/iris_mean_missing.csv\", sep=\",\", index=False)"
   ]
  },
  {
   "cell_type": "markdown",
   "metadata": {},
   "source": [
    "We have a preview of data - let's check how many of samples in each specie we have for each frame:"
   ]
  },
  {
   "cell_type": "code",
   "execution_count": 29,
   "metadata": {},
   "outputs": [
    {
     "data": {
      "text/plain": [
       "versicolor    50\n",
       "setosa        50\n",
       "virginica     50\n",
       "Name: Species, dtype: int64"
      ]
     },
     "execution_count": 29,
     "metadata": {},
     "output_type": "execute_result"
    }
   ],
   "source": [
    "test_data_mean[\"Species\"].value_counts()"
   ]
  },
  {
   "cell_type": "code",
   "execution_count": 30,
   "metadata": {},
   "outputs": [
    {
     "data": {
      "text/plain": [
       "virginica     50\n",
       "versicolor    49\n",
       "setosa        49\n",
       "Name: Species, dtype: int64"
      ]
     },
     "execution_count": 30,
     "metadata": {},
     "output_type": "execute_result"
    }
   ],
   "source": [
    "test_data_dropped[\"Species\"].value_counts()"
   ]
  },
  {
   "cell_type": "markdown",
   "metadata": {},
   "source": [
    "<h2> Data exploring - visualization, getting some knowledge about data </h2>"
   ]
  },
  {
   "cell_type": "markdown",
   "metadata": {},
   "source": [
    "Let's visualize our data - starting with scatterplot - using test_data_mean dataframe\n",
    "First, start with Sepal length x width columns"
   ]
  },
  {
   "cell_type": "code",
   "execution_count": 31,
   "metadata": {},
   "outputs": [
    {
     "data": {
      "image/png": "[encoded data removed]",
      "text/plain": [
       "<Figure size 360x360 with 3 Axes>"
      ]
     },
     "metadata": {},
     "output_type": "display_data"
    }
   ],
   "source": [
    "plot = sns.jointplot(x=\"SepalLength\", y=\"SepalWidth\", data=test_data_mean, size=5)\n",
    "plot.savefig('../reports/figures/scatter_sepal.png')"
   ]
  },
  {
   "cell_type": "markdown",
   "metadata": {},
   "source": [
    "But from these one - we don't know, to which category belong specified sample"
   ]
  },
  {
   "cell_type": "code",
   "execution_count": 32,
   "metadata": {},
   "outputs": [
    {
     "data": {
      "image/png": "[encoded data removed]",
      "text/plain": [
       "<Figure size 446.85x360 with 1 Axes>"
      ]
     },
     "metadata": {},
     "output_type": "display_data"
    }
   ],
   "source": [
    "plot = sns.FacetGrid(test_data_mean, hue=\"Species\", size=5).map(plt.scatter, \"SepalLength\", \"SepalWidth\").add_legend()\n",
    "plot.savefig('../reports/figures/scatter_sepal_legend.png')"
   ]
  },
  {
   "cell_type": "code",
   "execution_count": 178,
   "metadata": {},
   "outputs": [
    {
     "data": {
      "image/png": "[encoded data removed]",
      "text/plain": [
       "<Figure size 446.85x360 with 1 Axes>"
      ]
     },
     "metadata": {},
     "output_type": "display_data"
    }
   ],
   "source": [
    "plot = sns.FacetGrid(test_data_dropped, hue=\"Species\", size=5).map(plt.scatter, \"SepalLength\", \"SepalWidth\").add_legend()\n",
    "plot.savefig('../reports/figures/scatter_dropped_sepal_legend.png')"
   ]
  },
  {
   "cell_type": "markdown",
   "metadata": {},
   "source": [
    "As we see there - there is one outline in setosa, and versicolor and viriginica are mixed - but virginica has bigger values of length than versicolor. Take also a look into petal length and width."
   ]
  },
  {
   "cell_type": "code",
   "execution_count": 33,
   "metadata": {},
   "outputs": [
    {
     "data": {
      "image/png": "[encoded data removed]",
      "text/plain": [
       "<Figure size 446.85x360 with 1 Axes>"
      ]
     },
     "metadata": {},
     "output_type": "display_data"
    }
   ],
   "source": [
    "plot = sns.FacetGrid(test_data_mean, hue=\"Species\", size=5).map(plt.scatter, \"PetalLength\", \"PetalWidth\").add_legend()\n",
    "plot.savefig('../reports/figures/scatter_petal_legend.png')"
   ]
  },
  {
   "cell_type": "code",
   "execution_count": 179,
   "metadata": {},
   "outputs": [
    {
     "data": {
      "image/png": "[encoded data removed]",
      "text/plain": [
       "<Figure size 446.85x360 with 1 Axes>"
      ]
     },
     "metadata": {},
     "output_type": "display_data"
    }
   ],
   "source": [
    "plot = sns.FacetGrid(test_data_dropped, hue=\"Species\", size=5).map(plt.scatter, \"PetalLength\", \"PetalWidth\").add_legend()\n",
    "plot.savefig('../reports/figures/scatter_dropped_petal_legend.png')"
   ]
  },
  {
   "cell_type": "markdown",
   "metadata": {},
   "source": [
    "This time we see that setosa is isolated, without outlines, and two remaining has area with mixed samples - but we see, that most of them are there more isolated. That plot give us more information about data correlation to specified species. "
   ]
  },
  {
   "cell_type": "markdown",
   "metadata": {},
   "source": [
    "Lets look into density of variables"
   ]
  },
  {
   "cell_type": "code",
   "execution_count": 175,
   "metadata": {},
   "outputs": [
    {
     "data": {
      "image/png": "[encoded data removed]",
      "text/plain": [
       "<Figure size 1080x720 with 4 Axes>"
      ]
     },
     "metadata": {},
     "output_type": "display_data"
    }
   ],
   "source": [
    "plt.figure(figsize=(15,10))\n",
    "plt.subplot(2,2,1)\n",
    "sns.violinplot(x='Species',y='PetalLength',data=test_data_mean)\n",
    "plt.subplot(2,2,2)\n",
    "sns.violinplot(x='Species',y='PetalWidth',data=test_data_mean)\n",
    "plt.subplot(2,2,3)\n",
    "sns.violinplot(x='Species',y='SepalLength',data=test_data_mean)\n",
    "plt.subplot(2,2,4)\n",
    "sns.violinplot(x='Species',y='SepalWidth',data=test_data_mean)\n",
    "plt.savefig('../reports/figures/violin_mean_all.png')"
   ]
  },
  {
   "cell_type": "code",
   "execution_count": 177,
   "metadata": {},
   "outputs": [
    {
     "data": {
      "image/png": "[encoded data removed]",
      "text/plain": [
       "<Figure size 1080x720 with 4 Axes>"
      ]
     },
     "metadata": {},
     "output_type": "display_data"
    }
   ],
   "source": [
    "plt.figure(figsize=(15,10))\n",
    "plt.subplot(2,2,1)\n",
    "sns.violinplot(x='Species',y='PetalLength',data=test_data_dropped)\n",
    "plt.subplot(2,2,2)\n",
    "sns.violinplot(x='Species',y='PetalWidth',data=test_data_dropped)\n",
    "plt.subplot(2,2,3)\n",
    "sns.violinplot(x='Species',y='SepalLength',data=test_data_dropped)\n",
    "plt.subplot(2,2,4)\n",
    "sns.violinplot(x='Species',y='SepalWidth',data=test_data_dropped)\n",
    "plt.savefig('../reports/figures/violin_dropped_all.png')"
   ]
  },
  {
   "cell_type": "markdown",
   "metadata": {},
   "source": [
    "As we can see on previous plot, Petal width & length has great impact on class - their values are totally separeted from each other and in prediction will have significant impact. Problem is with sepal length and width - data overlap in both of them, but their core parts are on another values - but not at width, because versicolor and virignica has core values on same level."
   ]
  },
  {
   "cell_type": "markdown",
   "metadata": {},
   "source": [
    "Scatterplot is great, but we have to look deeper and work with our Curse of Dimensionality. More dimenstions - to work with that, we can use Andrews' Curves, where the observation represents the coefficients of a so-called Fourier series. We can also use Parallel Coordinates plot, which shows values of all features in one plot - with using separate columns for each. Last one of this plots is radviz, which plots a N-dimensional data set into a simple 2D space where the influence of each dimension can be interpreted as a balance between the influence of all dimensions."
   ]
  },
  {
   "cell_type": "code",
   "execution_count": 35,
   "metadata": {},
   "outputs": [
    {
     "data": {
      "image/png": "[encoded data removed]",
      "text/plain": [
       "<Figure size 432x288 with 1 Axes>"
      ]
     },
     "metadata": {},
     "output_type": "display_data"
    }
   ],
   "source": [
    "plot = andrews_curves(test_data_mean, \"Species\")\n",
    "plot.figure.savefig('../reports/figures/andrew_curves.png')"
   ]
  },
  {
   "cell_type": "code",
   "execution_count": 36,
   "metadata": {},
   "outputs": [
    {
     "data": {
      "image/png": "[encoded data removed]",
      "text/plain": [
       "<Figure size 432x288 with 1 Axes>"
      ]
     },
     "metadata": {},
     "output_type": "display_data"
    }
   ],
   "source": [
    "plot = parallel_coordinates(test_data_mean, \"Species\")\n",
    "plot.figure.savefig('../reports/figures/parallel_coordinates.png')"
   ]
  },
  {
   "cell_type": "code",
   "execution_count": 183,
   "metadata": {},
   "outputs": [
    {
     "data": {
      "image/png": "[encoded data removed]",
      "text/plain": [
       "<Figure size 432x288 with 1 Axes>"
      ]
     },
     "metadata": {},
     "output_type": "display_data"
    }
   ],
   "source": [
    "plot = radviz(test_data_mean, \"Species\")\n",
    "plot.figure.savefig('../reports/figures/radviz.png')"
   ]
  },
  {
   "cell_type": "markdown",
   "metadata": {},
   "source": [
    "After analyse of radviz plot - we see that there can be classification error with versicolor and virginica samples."
   ]
  },
  {
   "cell_type": "markdown",
   "metadata": {},
   "source": [
    "Let's take a look into second data frame - with dropping missing/incomplete rows. I will focus on two most giving information graphs - radviz and parallel."
   ]
  },
  {
   "cell_type": "code",
   "execution_count": 181,
   "metadata": {},
   "outputs": [
    {
     "data": {
      "image/png": "[encoded data removed]",
      "text/plain": [
       "<Figure size 432x288 with 1 Axes>"
      ]
     },
     "metadata": {},
     "output_type": "display_data"
    }
   ],
   "source": [
    "plot = parallel_coordinates(test_data_dropped, \"Species\")\n",
    "plot.figure.savefig('../reports/figures/parallel_coordinates_dropped.png')"
   ]
  },
  {
   "cell_type": "code",
   "execution_count": 182,
   "metadata": {},
   "outputs": [
    {
     "data": {
      "image/png": "[encoded data removed]",
      "text/plain": [
       "<Figure size 432x288 with 1 Axes>"
      ]
     },
     "metadata": {},
     "output_type": "display_data"
    }
   ],
   "source": [
    "plot = radviz(test_data_dropped, \"Species\")\n",
    "plot.figure.savefig('../reports/figures/radviz_dropped.png')"
   ]
  },
  {
   "cell_type": "markdown",
   "metadata": {},
   "source": [
    "... and dropping these two rows do not change plots so much - but we should go further and analyse correlation between attributes and target feature"
   ]
  },
  {
   "cell_type": "markdown",
   "metadata": {},
   "source": [
    "<h3> Pearson correlation check </h3>"
   ]
  },
  {
   "cell_type": "code",
   "execution_count": 40,
   "metadata": {},
   "outputs": [
    {
     "data": {
      "text/html": [
       "<div>\n",
       "<style scoped>\n",
       "    .dataframe tbody tr th:only-of-type {\n",
       "        vertical-align: middle;\n",
       "    }\n",
       "\n",
       "    .dataframe tbody tr th {\n",
       "        vertical-align: top;\n",
       "    }\n",
       "\n",
       "    .dataframe thead th {\n",
       "        text-align: right;\n",
       "    }\n",
       "</style>\n",
       "<table border=\"1\" class=\"dataframe\">\n",
       "  <thead>\n",
       "    <tr style=\"text-align: right;\">\n",
       "      <th></th>\n",
       "      <th>SepalLength</th>\n",
       "      <th>SepalWidth</th>\n",
       "      <th>PetalLength</th>\n",
       "      <th>PetalWidth</th>\n",
       "    </tr>\n",
       "  </thead>\n",
       "  <tbody>\n",
       "    <tr>\n",
       "      <th>SepalLength</th>\n",
       "      <td>1.000000</td>\n",
       "      <td>-0.117009</td>\n",
       "      <td>0.871145</td>\n",
       "      <td>0.815815</td>\n",
       "    </tr>\n",
       "    <tr>\n",
       "      <th>SepalWidth</th>\n",
       "      <td>-0.117009</td>\n",
       "      <td>1.000000</td>\n",
       "      <td>-0.429040</td>\n",
       "      <td>-0.367709</td>\n",
       "    </tr>\n",
       "    <tr>\n",
       "      <th>PetalLength</th>\n",
       "      <td>0.871145</td>\n",
       "      <td>-0.429040</td>\n",
       "      <td>1.000000</td>\n",
       "      <td>0.962910</td>\n",
       "    </tr>\n",
       "    <tr>\n",
       "      <th>PetalWidth</th>\n",
       "      <td>0.815815</td>\n",
       "      <td>-0.367709</td>\n",
       "      <td>0.962910</td>\n",
       "      <td>1.000000</td>\n",
       "    </tr>\n",
       "  </tbody>\n",
       "</table>\n",
       "</div>"
      ],
      "text/plain": [
       "             SepalLength  SepalWidth  PetalLength  PetalWidth\n",
       "SepalLength     1.000000   -0.117009     0.871145    0.815815\n",
       "SepalWidth     -0.117009    1.000000    -0.429040   -0.367709\n",
       "PetalLength     0.871145   -0.429040     1.000000    0.962910\n",
       "PetalWidth      0.815815   -0.367709     0.962910    1.000000"
      ]
     },
     "execution_count": 40,
     "metadata": {},
     "output_type": "execute_result"
    }
   ],
   "source": [
    "test_data_dropped.corr()"
   ]
  },
  {
   "cell_type": "code",
   "execution_count": 41,
   "metadata": {},
   "outputs": [
    {
     "data": {
      "text/html": [
       "<div>\n",
       "<style scoped>\n",
       "    .dataframe tbody tr th:only-of-type {\n",
       "        vertical-align: middle;\n",
       "    }\n",
       "\n",
       "    .dataframe tbody tr th {\n",
       "        vertical-align: top;\n",
       "    }\n",
       "\n",
       "    .dataframe thead th {\n",
       "        text-align: right;\n",
       "    }\n",
       "</style>\n",
       "<table border=\"1\" class=\"dataframe\">\n",
       "  <thead>\n",
       "    <tr style=\"text-align: right;\">\n",
       "      <th></th>\n",
       "      <th>SepalLength</th>\n",
       "      <th>SepalWidth</th>\n",
       "      <th>PetalLength</th>\n",
       "      <th>PetalWidth</th>\n",
       "    </tr>\n",
       "  </thead>\n",
       "  <tbody>\n",
       "    <tr>\n",
       "      <th>SepalLength</th>\n",
       "      <td>1.000000</td>\n",
       "      <td>-0.116711</td>\n",
       "      <td>0.867459</td>\n",
       "      <td>0.811142</td>\n",
       "    </tr>\n",
       "    <tr>\n",
       "      <th>SepalWidth</th>\n",
       "      <td>-0.116711</td>\n",
       "      <td>1.000000</td>\n",
       "      <td>-0.432108</td>\n",
       "      <td>-0.371657</td>\n",
       "    </tr>\n",
       "    <tr>\n",
       "      <th>PetalLength</th>\n",
       "      <td>0.867459</td>\n",
       "      <td>-0.432108</td>\n",
       "      <td>1.000000</td>\n",
       "      <td>0.962865</td>\n",
       "    </tr>\n",
       "    <tr>\n",
       "      <th>PetalWidth</th>\n",
       "      <td>0.811142</td>\n",
       "      <td>-0.371657</td>\n",
       "      <td>0.962865</td>\n",
       "      <td>1.000000</td>\n",
       "    </tr>\n",
       "  </tbody>\n",
       "</table>\n",
       "</div>"
      ],
      "text/plain": [
       "             SepalLength  SepalWidth  PetalLength  PetalWidth\n",
       "SepalLength     1.000000   -0.116711     0.867459    0.811142\n",
       "SepalWidth     -0.116711    1.000000    -0.432108   -0.371657\n",
       "PetalLength     0.867459   -0.432108     1.000000    0.962865\n",
       "PetalWidth      0.811142   -0.371657     0.962865    1.000000"
      ]
     },
     "execution_count": 41,
     "metadata": {},
     "output_type": "execute_result"
    }
   ],
   "source": [
    "test_data_mean.corr()"
   ]
  },
  {
   "cell_type": "code",
   "execution_count": 42,
   "metadata": {},
   "outputs": [
    {
     "data": {
      "image/png": "[encoded data removed]",
      "text/plain": [
       "<Figure size 504x288 with 2 Axes>"
      ]
     },
     "metadata": {},
     "output_type": "display_data"
    }
   ],
   "source": [
    "plt.figure(figsize=(7,4)) \n",
    "plot = sns.heatmap(test_data_dropped.corr(),annot=True,cmap='cubehelix_r')\n",
    "plot.figure.savefig('../reports/figures/heatmap_corr_dropped.png')"
   ]
  },
  {
   "cell_type": "code",
   "execution_count": 43,
   "metadata": {},
   "outputs": [
    {
     "data": {
      "image/png": "[encoded data removed]",
      "text/plain": [
       "<Figure size 504x288 with 2 Axes>"
      ]
     },
     "metadata": {},
     "output_type": "display_data"
    }
   ],
   "source": [
    "plt.figure(figsize=(7,4)) \n",
    "plot = sns.heatmap(test_data_mean.corr(),annot=True,cmap='cubehelix_r')\n",
    "plot.figure.savefig('../reports/figures/heatmap_corr_mean.png')"
   ]
  },
  {
   "cell_type": "markdown",
   "metadata": {},
   "source": [
    "After looking at heatmap - diffrence between two methods are really small only correlation between petal width and sepal length changed.  \n",
    "The SepalWidth and SepalLength has realy low correlation/no correlation.  \n",
    "The PetalWidth and PetalLength are highly correlated  \n",
    "\n",
    "But first - lets check values of correlation of each feature to target feature. To do that, we have to encode category - or use one-way anova test."
   ]
  },
  {
   "cell_type": "markdown",
   "metadata": {},
   "source": [
    "<h3> Checking correlation between features and target </h3>"
   ]
  },
  {
   "cell_type": "markdown",
   "metadata": {},
   "source": [
    "<h4> Using statistic tests </h4>"
   ]
  },
  {
   "cell_type": "code",
   "execution_count": 44,
   "metadata": {},
   "outputs": [],
   "source": [
    "import scipy.stats as stats #library with scientific methods - also with statistics tests\n",
    "from statsmodels.formula.api import ols #statistic tests library"
   ]
  },
  {
   "cell_type": "code",
   "execution_count": 45,
   "metadata": {},
   "outputs": [
    {
     "data": {
      "text/plain": [
       "Index(['SepalLength', 'SepalWidth', 'PetalLength', 'PetalWidth', 'Species'], dtype='object')"
      ]
     },
     "execution_count": 45,
     "metadata": {},
     "output_type": "execute_result"
    }
   ],
   "source": [
    "test_data_mean.columns"
   ]
  },
  {
   "cell_type": "code",
   "execution_count": 46,
   "metadata": {},
   "outputs": [
    {
     "data": {
      "text/plain": [
       "F_onewayResult(statistic=1180.161182252981, pvalue=2.8567766109615584e-91)"
      ]
     },
     "execution_count": 46,
     "metadata": {},
     "output_type": "execute_result"
    }
   ],
   "source": [
    "stats.f_oneway(test_data_mean['PetalLength'][test_data_mean['Species'] == 'setosa'], \n",
    "             test_data_mean['PetalLength'][test_data_mean['Species'] == 'versicolor'],\n",
    "             test_data_mean['PetalLength'][test_data_mean['Species'] == 'virginica'])"
   ]
  },
  {
   "cell_type": "code",
   "execution_count": 47,
   "metadata": {},
   "outputs": [
    {
     "data": {
      "text/html": [
       "<table class=\"simpletable\">\n",
       "<caption>OLS Regression Results</caption>\n",
       "<tr>\n",
       "  <th>Dep. Variable:</th>       <td>PetalLength</td>   <th>  R-squared:         </th> <td>   0.941</td>\n",
       "</tr>\n",
       "<tr>\n",
       "  <th>Model:</th>                   <td>OLS</td>       <th>  Adj. R-squared:    </th> <td>   0.941</td>\n",
       "</tr>\n",
       "<tr>\n",
       "  <th>Method:</th>             <td>Least Squares</td>  <th>  F-statistic:       </th> <td>   1180.</td>\n",
       "</tr>\n",
       "<tr>\n",
       "  <th>Date:</th>             <td>Sat, 15 Jun 2019</td> <th>  Prob (F-statistic):</th> <td>2.86e-91</td>\n",
       "</tr>\n",
       "<tr>\n",
       "  <th>Time:</th>                 <td>15:44:57</td>     <th>  Log-Likelihood:    </th> <td> -84.847</td>\n",
       "</tr>\n",
       "<tr>\n",
       "  <th>No. Observations:</th>      <td>   150</td>      <th>  AIC:               </th> <td>   175.7</td>\n",
       "</tr>\n",
       "<tr>\n",
       "  <th>Df Residuals:</th>          <td>   147</td>      <th>  BIC:               </th> <td>   184.7</td>\n",
       "</tr>\n",
       "<tr>\n",
       "  <th>Df Model:</th>              <td>     2</td>      <th>                     </th>     <td> </td>   \n",
       "</tr>\n",
       "<tr>\n",
       "  <th>Covariance Type:</th>      <td>nonrobust</td>    <th>                     </th>     <td> </td>   \n",
       "</tr>\n",
       "</table>\n",
       "<table class=\"simpletable\">\n",
       "<tr>\n",
       "              <td></td>                <th>coef</th>     <th>std err</th>      <th>t</th>      <th>P>|t|</th>  <th>[0.025</th>    <th>0.975]</th>  \n",
       "</tr>\n",
       "<tr>\n",
       "  <th>Intercept</th>                <td>    1.4620</td> <td>    0.061</td> <td>   24.023</td> <td> 0.000</td> <td>    1.342</td> <td>    1.582</td>\n",
       "</tr>\n",
       "<tr>\n",
       "  <th>C(Species)[T.versicolor]</th> <td>    2.7980</td> <td>    0.086</td> <td>   32.510</td> <td> 0.000</td> <td>    2.628</td> <td>    2.968</td>\n",
       "</tr>\n",
       "<tr>\n",
       "  <th>C(Species)[T.virginica]</th>  <td>    4.0900</td> <td>    0.086</td> <td>   47.521</td> <td> 0.000</td> <td>    3.920</td> <td>    4.260</td>\n",
       "</tr>\n",
       "</table>\n",
       "<table class=\"simpletable\">\n",
       "<tr>\n",
       "  <th>Omnibus:</th>       <td> 4.394</td> <th>  Durbin-Watson:     </th> <td>   1.997</td>\n",
       "</tr>\n",
       "<tr>\n",
       "  <th>Prob(Omnibus):</th> <td> 0.111</td> <th>  Jarque-Bera (JB):  </th> <td>   5.366</td>\n",
       "</tr>\n",
       "<tr>\n",
       "  <th>Skew:</th>          <td> 0.122</td> <th>  Prob(JB):          </th> <td>  0.0683</td>\n",
       "</tr>\n",
       "<tr>\n",
       "  <th>Kurtosis:</th>      <td> 3.894</td> <th>  Cond. No.          </th> <td>    3.73</td>\n",
       "</tr>\n",
       "</table><br/><br/>Warnings:<br/>[1] Standard Errors assume that the covariance matrix of the errors is correctly specified."
      ],
      "text/plain": [
       "<class 'statsmodels.iolib.summary.Summary'>\n",
       "\"\"\"\n",
       "                            OLS Regression Results                            \n",
       "==============================================================================\n",
       "Dep. Variable:            PetalLength   R-squared:                       0.941\n",
       "Model:                            OLS   Adj. R-squared:                  0.941\n",
       "Method:                 Least Squares   F-statistic:                     1180.\n",
       "Date:                Sat, 15 Jun 2019   Prob (F-statistic):           2.86e-91\n",
       "Time:                        15:44:57   Log-Likelihood:                -84.847\n",
       "No. Observations:                 150   AIC:                             175.7\n",
       "Df Residuals:                     147   BIC:                             184.7\n",
       "Df Model:                           2                                         \n",
       "Covariance Type:            nonrobust                                         \n",
       "============================================================================================\n",
       "                               coef    std err          t      P>|t|      [0.025      0.975]\n",
       "--------------------------------------------------------------------------------------------\n",
       "Intercept                    1.4620      0.061     24.023      0.000       1.342       1.582\n",
       "C(Species)[T.versicolor]     2.7980      0.086     32.510      0.000       2.628       2.968\n",
       "C(Species)[T.virginica]      4.0900      0.086     47.521      0.000       3.920       4.260\n",
       "==============================================================================\n",
       "Omnibus:                        4.394   Durbin-Watson:                   1.997\n",
       "Prob(Omnibus):                  0.111   Jarque-Bera (JB):                5.366\n",
       "Skew:                           0.122   Prob(JB):                       0.0683\n",
       "Kurtosis:                       3.894   Cond. No.                         3.73\n",
       "==============================================================================\n",
       "\n",
       "Warnings:\n",
       "[1] Standard Errors assume that the covariance matrix of the errors is correctly specified.\n",
       "\"\"\""
      ]
     },
     "execution_count": 47,
     "metadata": {},
     "output_type": "execute_result"
    }
   ],
   "source": [
    "results = ols('PetalLength ~ C(Species)', data=test_data_mean).fit()\n",
    "results.summary()"
   ]
  },
  {
   "cell_type": "markdown",
   "metadata": {},
   "source": [
    "let's interprate tests - we got this values:\n",
    "* p-value: 2.86e-91\n",
    "* f-stat: 1180\n",
    "\n",
    "so we can interprate this value as a high correlation. Continue with other features."
   ]
  },
  {
   "cell_type": "code",
   "execution_count": 48,
   "metadata": {},
   "outputs": [
    {
     "data": {
      "text/plain": [
       "F_onewayResult(statistic=960.007146801809, pvalue=4.169445839443116e-85)"
      ]
     },
     "execution_count": 48,
     "metadata": {},
     "output_type": "execute_result"
    }
   ],
   "source": [
    "stats.f_oneway(test_data_mean['PetalWidth'][test_data_mean['Species'] == 'setosa'], \n",
    "             test_data_mean['PetalWidth'][test_data_mean['Species'] == 'versicolor'],\n",
    "             test_data_mean['PetalWidth'][test_data_mean['Species'] == 'virginica'])"
   ]
  },
  {
   "cell_type": "code",
   "execution_count": 49,
   "metadata": {},
   "outputs": [
    {
     "data": {
      "text/plain": [
       "F_onewayResult(statistic=114.07485381664135, pvalue=1.241038052658806e-30)"
      ]
     },
     "execution_count": 49,
     "metadata": {},
     "output_type": "execute_result"
    }
   ],
   "source": [
    "stats.f_oneway(test_data_mean['SepalLength'][test_data_mean['Species'] == 'setosa'], \n",
    "             test_data_mean['SepalLength'][test_data_mean['Species'] == 'versicolor'],\n",
    "             test_data_mean['SepalLength'][test_data_mean['Species'] == 'virginica'])"
   ]
  },
  {
   "cell_type": "code",
   "execution_count": 50,
   "metadata": {},
   "outputs": [
    {
     "data": {
      "text/plain": [
       "F_onewayResult(statistic=47.70777835913615, pvalue=1.0780237566238808e-16)"
      ]
     },
     "execution_count": 50,
     "metadata": {},
     "output_type": "execute_result"
    }
   ],
   "source": [
    "stats.f_oneway(test_data_mean['SepalWidth'][test_data_mean['Species'] == 'setosa'], \n",
    "             test_data_mean['SepalWidth'][test_data_mean['Species'] == 'versicolor'],\n",
    "             test_data_mean['SepalWidth'][test_data_mean['Species'] == 'virginica'])"
   ]
  },
  {
   "cell_type": "markdown",
   "metadata": {},
   "source": [
    "What we can see there? As we see there, some of values are more, some are less significant for target feature - but as we can see, every has some impact. I want also to know the pearson correlation between them - in that case, i have to encode categorical values as numbers."
   ]
  },
  {
   "cell_type": "markdown",
   "metadata": {},
   "source": [
    "<h4> Using category encoding </h4>"
   ]
  },
  {
   "cell_type": "code",
   "execution_count": 51,
   "metadata": {},
   "outputs": [],
   "source": [
    "from sklearn import preprocessing #preprocessing from sklearn - to have acces to LabelEncoder."
   ]
  },
  {
   "cell_type": "code",
   "execution_count": 52,
   "metadata": {},
   "outputs": [
    {
     "data": {
      "text/plain": [
       "array(['setosa', 'versicolor', 'virginica'], dtype=object)"
      ]
     },
     "execution_count": 52,
     "metadata": {},
     "output_type": "execute_result"
    }
   ],
   "source": [
    "le = preprocessing.LabelEncoder()\n",
    "le.fit(data_copy['Species'])\n",
    "le.classes_"
   ]
  },
  {
   "cell_type": "code",
   "execution_count": 53,
   "metadata": {},
   "outputs": [
    {
     "data": {
      "text/plain": [
       "array([0, 1, 2], dtype=int64)"
      ]
     },
     "execution_count": 53,
     "metadata": {},
     "output_type": "execute_result"
    }
   ],
   "source": [
    "test_data_mean['SpeciesEncoded'] = le.transform(test_data_mean['Species'])\n",
    "test_data_mean['SpeciesEncoded'].unique()"
   ]
  },
  {
   "cell_type": "code",
   "execution_count": 54,
   "metadata": {},
   "outputs": [
    {
     "data": {
      "text/html": [
       "<div>\n",
       "<style scoped>\n",
       "    .dataframe tbody tr th:only-of-type {\n",
       "        vertical-align: middle;\n",
       "    }\n",
       "\n",
       "    .dataframe tbody tr th {\n",
       "        vertical-align: top;\n",
       "    }\n",
       "\n",
       "    .dataframe thead th {\n",
       "        text-align: right;\n",
       "    }\n",
       "</style>\n",
       "<table border=\"1\" class=\"dataframe\">\n",
       "  <thead>\n",
       "    <tr style=\"text-align: right;\">\n",
       "      <th></th>\n",
       "      <th>SepalLength</th>\n",
       "      <th>SepalWidth</th>\n",
       "      <th>PetalLength</th>\n",
       "      <th>PetalWidth</th>\n",
       "      <th>SpeciesEncoded</th>\n",
       "    </tr>\n",
       "  </thead>\n",
       "  <tbody>\n",
       "    <tr>\n",
       "      <th>SepalLength</th>\n",
       "      <td>1.000000</td>\n",
       "      <td>-0.116711</td>\n",
       "      <td>0.867459</td>\n",
       "      <td>0.811142</td>\n",
       "      <td>0.776345</td>\n",
       "    </tr>\n",
       "    <tr>\n",
       "      <th>SepalWidth</th>\n",
       "      <td>-0.116711</td>\n",
       "      <td>1.000000</td>\n",
       "      <td>-0.432108</td>\n",
       "      <td>-0.371657</td>\n",
       "      <td>-0.429974</td>\n",
       "    </tr>\n",
       "    <tr>\n",
       "      <th>PetalLength</th>\n",
       "      <td>0.867459</td>\n",
       "      <td>-0.432108</td>\n",
       "      <td>1.000000</td>\n",
       "      <td>0.962865</td>\n",
       "      <td>0.949035</td>\n",
       "    </tr>\n",
       "    <tr>\n",
       "      <th>PetalWidth</th>\n",
       "      <td>0.811142</td>\n",
       "      <td>-0.371657</td>\n",
       "      <td>0.962865</td>\n",
       "      <td>1.000000</td>\n",
       "      <td>0.956547</td>\n",
       "    </tr>\n",
       "    <tr>\n",
       "      <th>SpeciesEncoded</th>\n",
       "      <td>0.776345</td>\n",
       "      <td>-0.429974</td>\n",
       "      <td>0.949035</td>\n",
       "      <td>0.956547</td>\n",
       "      <td>1.000000</td>\n",
       "    </tr>\n",
       "  </tbody>\n",
       "</table>\n",
       "</div>"
      ],
      "text/plain": [
       "                SepalLength  SepalWidth  PetalLength  PetalWidth  \\\n",
       "SepalLength        1.000000   -0.116711     0.867459    0.811142   \n",
       "SepalWidth        -0.116711    1.000000    -0.432108   -0.371657   \n",
       "PetalLength        0.867459   -0.432108     1.000000    0.962865   \n",
       "PetalWidth         0.811142   -0.371657     0.962865    1.000000   \n",
       "SpeciesEncoded     0.776345   -0.429974     0.949035    0.956547   \n",
       "\n",
       "                SpeciesEncoded  \n",
       "SepalLength           0.776345  \n",
       "SepalWidth           -0.429974  \n",
       "PetalLength           0.949035  \n",
       "PetalWidth            0.956547  \n",
       "SpeciesEncoded        1.000000  "
      ]
     },
     "execution_count": 54,
     "metadata": {},
     "output_type": "execute_result"
    }
   ],
   "source": [
    "test_data_mean.corr()"
   ]
  },
  {
   "cell_type": "markdown",
   "metadata": {},
   "source": [
    "Let's do it also for second frame"
   ]
  },
  {
   "cell_type": "code",
   "execution_count": 114,
   "metadata": {},
   "outputs": [
    {
     "data": {
      "text/plain": [
       "array([0, 1, 2], dtype=int64)"
      ]
     },
     "execution_count": 114,
     "metadata": {},
     "output_type": "execute_result"
    }
   ],
   "source": [
    "test_data_dropped['SpeciesEncoded'] = le.transform(test_data_dropped['Species'])\n",
    "test_data_dropped['SpeciesEncoded'].unique()"
   ]
  },
  {
   "cell_type": "code",
   "execution_count": 56,
   "metadata": {},
   "outputs": [
    {
     "data": {
      "text/html": [
       "<div>\n",
       "<style scoped>\n",
       "    .dataframe tbody tr th:only-of-type {\n",
       "        vertical-align: middle;\n",
       "    }\n",
       "\n",
       "    .dataframe tbody tr th {\n",
       "        vertical-align: top;\n",
       "    }\n",
       "\n",
       "    .dataframe thead th {\n",
       "        text-align: right;\n",
       "    }\n",
       "</style>\n",
       "<table border=\"1\" class=\"dataframe\">\n",
       "  <thead>\n",
       "    <tr style=\"text-align: right;\">\n",
       "      <th></th>\n",
       "      <th>SepalLength</th>\n",
       "      <th>SepalWidth</th>\n",
       "      <th>PetalLength</th>\n",
       "      <th>PetalWidth</th>\n",
       "      <th>SpeciesEncoded</th>\n",
       "    </tr>\n",
       "  </thead>\n",
       "  <tbody>\n",
       "    <tr>\n",
       "      <th>SepalLength</th>\n",
       "      <td>1.000000</td>\n",
       "      <td>-0.117009</td>\n",
       "      <td>0.871145</td>\n",
       "      <td>0.815815</td>\n",
       "      <td>0.780736</td>\n",
       "    </tr>\n",
       "    <tr>\n",
       "      <th>SepalWidth</th>\n",
       "      <td>-0.117009</td>\n",
       "      <td>1.000000</td>\n",
       "      <td>-0.429040</td>\n",
       "      <td>-0.367709</td>\n",
       "      <td>-0.426554</td>\n",
       "    </tr>\n",
       "    <tr>\n",
       "      <th>PetalLength</th>\n",
       "      <td>0.871145</td>\n",
       "      <td>-0.429040</td>\n",
       "      <td>1.000000</td>\n",
       "      <td>0.962910</td>\n",
       "      <td>0.948684</td>\n",
       "    </tr>\n",
       "    <tr>\n",
       "      <th>PetalWidth</th>\n",
       "      <td>0.815815</td>\n",
       "      <td>-0.367709</td>\n",
       "      <td>0.962910</td>\n",
       "      <td>1.000000</td>\n",
       "      <td>0.956323</td>\n",
       "    </tr>\n",
       "    <tr>\n",
       "      <th>SpeciesEncoded</th>\n",
       "      <td>0.780736</td>\n",
       "      <td>-0.426554</td>\n",
       "      <td>0.948684</td>\n",
       "      <td>0.956323</td>\n",
       "      <td>1.000000</td>\n",
       "    </tr>\n",
       "  </tbody>\n",
       "</table>\n",
       "</div>"
      ],
      "text/plain": [
       "                SepalLength  SepalWidth  PetalLength  PetalWidth  \\\n",
       "SepalLength        1.000000   -0.117009     0.871145    0.815815   \n",
       "SepalWidth        -0.117009    1.000000    -0.429040   -0.367709   \n",
       "PetalLength        0.871145   -0.429040     1.000000    0.962910   \n",
       "PetalWidth         0.815815   -0.367709     0.962910    1.000000   \n",
       "SpeciesEncoded     0.780736   -0.426554     0.948684    0.956323   \n",
       "\n",
       "                SpeciesEncoded  \n",
       "SepalLength           0.780736  \n",
       "SepalWidth           -0.426554  \n",
       "PetalLength           0.948684  \n",
       "PetalWidth            0.956323  \n",
       "SpeciesEncoded        1.000000  "
      ]
     },
     "execution_count": 56,
     "metadata": {},
     "output_type": "execute_result"
    }
   ],
   "source": [
    "test_data_dropped.corr()"
   ]
  },
  {
   "cell_type": "markdown",
   "metadata": {},
   "source": [
    "As we see there, we have some differences - but as we can see, using mean  instead of dropping we have higher correlation between SepalLength and Species, like also for SepalWidth. For next steps we should experiment with using features - should we use all features to build model, or use only these with higher correlation?"
   ]
  },
  {
   "cell_type": "markdown",
   "metadata": {},
   "source": [
    "<h2> Models preparation </h2>"
   ]
  },
  {
   "cell_type": "code",
   "execution_count": 180,
   "metadata": {},
   "outputs": [],
   "source": [
    "#we should now drop these additional columns\n",
    "if 'SpeciesEncoded' in test_data_dropped.columns:\n",
    "    test_data_dropped = test_data_dropped.drop(columns=['SpeciesEncoded'])\n",
    "if 'SpeciesEncoded' in test_data_mean.columns:\n",
    "    test_data_mean = test_data_mean.drop(columns=['SpeciesEncoded'])"
   ]
  },
  {
   "cell_type": "markdown",
   "metadata": {},
   "source": [
    "After exploring and clearing it's time to start working on a model(s)"
   ]
  },
  {
   "cell_type": "code",
   "execution_count": 58,
   "metadata": {},
   "outputs": [],
   "source": [
    "from sklearn.model_selection import train_test_split #splitting data set into training and test data\n",
    "from sklearn import metrics #metrics - to measure quality of model"
   ]
  },
  {
   "cell_type": "code",
   "execution_count": 59,
   "metadata": {},
   "outputs": [],
   "source": [
    "from sklearn.neighbors import KNeighborsClassifier   #KNN model\n",
    "from sklearn.svm import SVC #SVM model\n",
    "from sklearn.tree import DecisionTreeClassifier #DecisionTree model"
   ]
  },
  {
   "cell_type": "markdown",
   "metadata": {},
   "source": [
    "After importing most important elements for now, we should split our datasets(frames) to train part (70% of data) and test data (30% of data)"
   ]
  },
  {
   "cell_type": "code",
   "execution_count": 238,
   "metadata": {},
   "outputs": [],
   "source": [
    "seed = 7 #if we want to reproduce same data each time - use random state seed"
   ]
  },
  {
   "cell_type": "code",
   "execution_count": 239,
   "metadata": {},
   "outputs": [],
   "source": [
    "train_dropped, test_dropped = train_test_split(test_data_dropped, test_size = 0.3, random_state=seed)"
   ]
  },
  {
   "cell_type": "code",
   "execution_count": 240,
   "metadata": {},
   "outputs": [
    {
     "data": {
      "text/plain": [
       "(103, 5)"
      ]
     },
     "execution_count": 240,
     "metadata": {},
     "output_type": "execute_result"
    }
   ],
   "source": [
    "train_dropped.shape"
   ]
  },
  {
   "cell_type": "code",
   "execution_count": 241,
   "metadata": {},
   "outputs": [
    {
     "data": {
      "text/plain": [
       "(45, 5)"
      ]
     },
     "execution_count": 241,
     "metadata": {},
     "output_type": "execute_result"
    }
   ],
   "source": [
    "test_dropped.shape #looking fine"
   ]
  },
  {
   "cell_type": "code",
   "execution_count": 242,
   "metadata": {},
   "outputs": [],
   "source": [
    "train_mean, test_mean  = train_test_split(test_data_mean, test_size = 0.3, random_state=seed)"
   ]
  },
  {
   "cell_type": "code",
   "execution_count": 243,
   "metadata": {},
   "outputs": [
    {
     "data": {
      "text/plain": [
       "(105, 5)"
      ]
     },
     "execution_count": 243,
     "metadata": {},
     "output_type": "execute_result"
    }
   ],
   "source": [
    "train_mean.shape"
   ]
  },
  {
   "cell_type": "code",
   "execution_count": 244,
   "metadata": {},
   "outputs": [
    {
     "data": {
      "text/plain": [
       "(45, 5)"
      ]
     },
     "execution_count": 244,
     "metadata": {},
     "output_type": "execute_result"
    }
   ],
   "source": [
    "test_mean.shape #also looking fine"
   ]
  },
  {
   "cell_type": "markdown",
   "metadata": {},
   "source": [
    "<h3> Model building using all features </h3>"
   ]
  },
  {
   "cell_type": "markdown",
   "metadata": {},
   "source": [
    "Now - split it into feature and target feature both for test and training"
   ]
  },
  {
   "cell_type": "code",
   "execution_count": 245,
   "metadata": {},
   "outputs": [],
   "source": [
    "data_features = ['SepalLength', 'SepalWidth', 'PetalLength', 'PetalWidth']"
   ]
  },
  {
   "cell_type": "code",
   "execution_count": 246,
   "metadata": {},
   "outputs": [],
   "source": [
    "train_dropped_X = train_dropped[data_features] # taking the training data features\n",
    "train_dropped_y=train_dropped.Species # output of our training data\n",
    "test_dropped_X= test_dropped[data_features] # taking test data features\n",
    "test_dropped_y =test_dropped.Species   #output value of test data"
   ]
  },
  {
   "cell_type": "code",
   "execution_count": 247,
   "metadata": {},
   "outputs": [],
   "source": [
    "train_mean_X = train_mean[data_features] # taking the training data features\n",
    "train_mean_y=train_mean.Species # output of our training data\n",
    "test_mean_X= test_mean[data_features] # taking test data features\n",
    "test_mean_y =test_mean.Species   #output value of test data"
   ]
  },
  {
   "cell_type": "code",
   "execution_count": 203,
   "metadata": {},
   "outputs": [],
   "source": [
    "import pickle #good practice is to save your models - let's save each model\n",
    "import datetime"
   ]
  },
  {
   "cell_type": "code",
   "execution_count": 204,
   "metadata": {},
   "outputs": [],
   "source": [
    "#function to save model\n",
    "default_path = '../models/'\n",
    "def save_model(file_name, model):\n",
    "    file_name = default_path + file_name + '.sav'\n",
    "    pickle.dump(model, open(file_name, 'wb'))\n",
    "\n",
    "def metrics_print(prediction, test_y):\n",
    "    print('The accuracy is',metrics.accuracy_score(prediction,test_y))\n",
    "    print('The precision is',metrics.precision_score(prediction,test_y, average='micro')) \n",
    "    #averaege value: normally it's binary mode, but we have more than one class, so we have to use average=None - will return the precision scores for each class, \n",
    "    # or average=micro to return the total ratio of tp/(tp + fp)\n",
    "    print('The recall is',metrics.recall_score(prediction,test_y, average='micro'))\n",
    "    #The F1 score can be interpreted as a weighted average of the precision and recall, \n",
    "    #where an F1 score reaches its best value at 1 and worst score at 0. The relative contribution of precision and recall to the F1 score are equal.\n",
    "    print('The F-score is', metrics.f1_score(prediction, test_y, average='micro'))"
   ]
  },
  {
   "cell_type": "markdown",
   "metadata": {},
   "source": [
    "<h4>1. Model: KNN; DataFrame: test_dropped </h4>"
   ]
  },
  {
   "cell_type": "code",
   "execution_count": 139,
   "metadata": {},
   "outputs": [],
   "source": [
    "def knn(train_X, train_y, test_X, test_y, n_number = 3, data_set=\"\"):\n",
    "    model=KNeighborsClassifier(n_neighbors=n_number)\n",
    "    model.fit(train_X,train_y)\n",
    "    prediction=model.predict(test_X)\n",
    "    metrics_print(prediction, test_y)\n",
    "    save_model(str(data_set) + '_knn_N-' + str(n_number) \n",
    "               + '_F1-' + str(round(metrics.f1_score(prediction, test_y, average='micro'), 3)).replace(\".\", \",\") \n",
    "               + '_Acc-' + str(round(metrics.accuracy_score(prediction,test_y),3)).replace(\".\", \",\"), model)"
   ]
  },
  {
   "cell_type": "code",
   "execution_count": 190,
   "metadata": {},
   "outputs": [
    {
     "name": "stdout",
     "output_type": "stream",
     "text": [
      "The accuracy is 0.9555555555555556\n",
      "The precision is 0.9555555555555556\n",
      "The recall is 0.9555555555555556\n",
      "The F-score is 0.9555555555555556\n"
     ]
    }
   ],
   "source": [
    "#3 neighbors\n",
    "knn(train_dropped_X, train_dropped_y, test_dropped_X, test_dropped_y, 3)"
   ]
  },
  {
   "cell_type": "code",
   "execution_count": 191,
   "metadata": {},
   "outputs": [
    {
     "name": "stdout",
     "output_type": "stream",
     "text": [
      "The accuracy is 0.9555555555555556\n",
      "The precision is 0.9555555555555556\n",
      "The recall is 0.9555555555555556\n",
      "The F-score is 0.9555555555555556\n"
     ]
    }
   ],
   "source": [
    "#5 neighbors\n",
    "knn(train_dropped_X, train_dropped_y, test_dropped_X, test_dropped_y, 5)"
   ]
  },
  {
   "cell_type": "code",
   "execution_count": 192,
   "metadata": {},
   "outputs": [
    {
     "name": "stdout",
     "output_type": "stream",
     "text": [
      "The accuracy is 0.9333333333333333\n",
      "The precision is 0.9333333333333333\n",
      "The recall is 0.9333333333333333\n",
      "The F-score is 0.9333333333333333\n"
     ]
    }
   ],
   "source": [
    "#7 neighbors\n",
    "knn(train_dropped_X, train_dropped_y, test_dropped_X, test_dropped_y, 7)"
   ]
  },
  {
   "cell_type": "code",
   "execution_count": 193,
   "metadata": {},
   "outputs": [
    {
     "name": "stdout",
     "output_type": "stream",
     "text": [
      "The accuracy is 0.9777777777777777\n",
      "The precision is 0.9777777777777777\n",
      "The recall is 0.9777777777777777\n",
      "The F-score is 0.9777777777777777\n"
     ]
    }
   ],
   "source": [
    "#11 neighbors\n",
    "knn(train_dropped_X, train_dropped_y, test_dropped_X, test_dropped_y, 11)"
   ]
  },
  {
   "cell_type": "markdown",
   "metadata": {},
   "source": [
    "As we can see, changing the number of neigbors parameter can change score - starting with 0.955 to 1.0 accuracy. But that only accuracy - we should take a look also into additional parameters of model - precision, recall.  \n",
    "* precision is intuitively the ability of the classifier not to label as positive a sample that is negative.  \n",
    "* recall is intuitively the ability of the classifier to find all the positive samples.\n",
    "\n",
    "After looking into these two additional - we see, that for one class there are always score=1 in recall and precision, for other - it depends on number of neigbours."
   ]
  },
  {
   "cell_type": "markdown",
   "metadata": {},
   "source": [
    "<h4>2. Model: SVM; DataFrame: test_dropped </h4>"
   ]
  },
  {
   "cell_type": "code",
   "execution_count": 205,
   "metadata": {},
   "outputs": [],
   "source": [
    "def svm(train_X, train_y, test_X, test_y, kernel='rbf', data_set=\"\"):\n",
    "    model = SVC(kernel=kernel)\n",
    "    model.fit(train_X,train_y)\n",
    "    prediction=model.predict(test_X)\n",
    "    metrics_print(prediction, test_y)\n",
    "    save_model(str(data_set) + '_svm_Kernel-' + kernel\n",
    "               + '_F1-' + str(round(metrics.f1_score(prediction, test_y, average='micro'), 3)).replace(\".\", \",\") \n",
    "               + '_Acc-' + str(round(metrics.accuracy_score(prediction,test_y),3)).replace(\".\", \",\"), model)"
   ]
  },
  {
   "cell_type": "code",
   "execution_count": 206,
   "metadata": {},
   "outputs": [
    {
     "name": "stdout",
     "output_type": "stream",
     "text": [
      "The accuracy is 0.9777777777777777\n",
      "The precision is 0.9777777777777777\n",
      "The recall is 0.9777777777777777\n",
      "The F-score is 0.9777777777777777\n"
     ]
    }
   ],
   "source": [
    "#svm as a parameter takes kernel type\n",
    "#It must be one of ‘linear’, ‘poly’, ‘rbf’, ‘sigmoid’, ‘precomputed’\n",
    "svm(train_dropped_X, train_dropped_y, test_dropped_X, test_dropped_y, 'rbf')"
   ]
  },
  {
   "cell_type": "code",
   "execution_count": 207,
   "metadata": {},
   "outputs": [
    {
     "name": "stdout",
     "output_type": "stream",
     "text": [
      "The accuracy is 1.0\n",
      "The precision is 1.0\n",
      "The recall is 1.0\n",
      "The F-score is 1.0\n"
     ]
    }
   ],
   "source": [
    "svm(train_dropped_X, train_dropped_y, test_dropped_X, test_dropped_y, 'linear')"
   ]
  },
  {
   "cell_type": "code",
   "execution_count": 208,
   "metadata": {},
   "outputs": [
    {
     "name": "stdout",
     "output_type": "stream",
     "text": [
      "The accuracy is 0.9777777777777777\n",
      "The precision is 0.9777777777777777\n",
      "The recall is 0.9777777777777777\n",
      "The F-score is 0.9777777777777777\n"
     ]
    }
   ],
   "source": [
    "svm(train_dropped_X, train_dropped_y, test_dropped_X, test_dropped_y, 'poly')"
   ]
  },
  {
   "cell_type": "code",
   "execution_count": 209,
   "metadata": {},
   "outputs": [
    {
     "name": "stdout",
     "output_type": "stream",
     "text": [
      "The accuracy is 0.26666666666666666\n",
      "The precision is 0.26666666666666666\n",
      "The recall is 0.26666666666666666\n",
      "The F-score is 0.26666666666666666\n"
     ]
    }
   ],
   "source": [
    "svm(train_dropped_X, train_dropped_y, test_dropped_X, test_dropped_y, 'sigmoid')"
   ]
  },
  {
   "cell_type": "markdown",
   "metadata": {},
   "source": [
    "<h4>3. Model: DecisionTree; DataFrame: test_dropped </h4>"
   ]
  },
  {
   "cell_type": "code",
   "execution_count": 222,
   "metadata": {},
   "outputs": [],
   "source": [
    "def decision_tree(train_X, train_y, test_X, test_y, max_depth = None, min_samples_leaf = 1, data_set=\"\"):\n",
    "    model = DecisionTreeClassifier(random_state=seed, max_depth=max_depth, min_samples_leaf=min_samples_leaf)\n",
    "    model.fit(train_X,train_y)\n",
    "    prediction=model.predict(test_X)\n",
    "    metrics_print(prediction, test_y)\n",
    "    save_model(str(data_set) + '_dt_Depth-' + str(max_depth) + '_minSampleLeaf-' + str(min_samples_leaf)\n",
    "               + '_F1-' + str(round(metrics.f1_score(prediction, test_y, average='micro'), 3)).replace(\".\", \",\") \n",
    "              + '_Acc-' + str(round(metrics.accuracy_score(prediction,test_y),3)).replace(\".\", \",\"), model)"
   ]
  },
  {
   "cell_type": "code",
   "execution_count": 223,
   "metadata": {},
   "outputs": [
    {
     "name": "stdout",
     "output_type": "stream",
     "text": [
      "The accuracy is 0.9777777777777777\n",
      "The precision is 0.9777777777777777\n",
      "The recall is 0.9777777777777777\n",
      "The F-score is 0.9777777777777777\n"
     ]
    }
   ],
   "source": [
    "decision_tree(train_dropped_X, train_dropped_y, test_dropped_X, test_dropped_y)"
   ]
  },
  {
   "cell_type": "code",
   "execution_count": 224,
   "metadata": {},
   "outputs": [
    {
     "name": "stdout",
     "output_type": "stream",
     "text": [
      "The accuracy is 0.9555555555555556\n",
      "The precision is 0.9555555555555556\n",
      "The recall is 0.9555555555555556\n",
      "The F-score is 0.9555555555555556\n"
     ]
    }
   ],
   "source": [
    "decision_tree(train_dropped_X, train_dropped_y, test_dropped_X, test_dropped_y, 2) #worse"
   ]
  },
  {
   "cell_type": "code",
   "execution_count": 225,
   "metadata": {},
   "outputs": [
    {
     "name": "stdout",
     "output_type": "stream",
     "text": [
      "The accuracy is 0.9777777777777777\n",
      "The precision is 0.9777777777777777\n",
      "The recall is 0.9777777777777777\n",
      "The F-score is 0.9777777777777777\n"
     ]
    }
   ],
   "source": [
    "decision_tree(train_dropped_X, train_dropped_y, test_dropped_X, test_dropped_y, 3) #same as first"
   ]
  },
  {
   "cell_type": "code",
   "execution_count": 226,
   "metadata": {},
   "outputs": [
    {
     "name": "stdout",
     "output_type": "stream",
     "text": [
      "The accuracy is 0.9777777777777777\n",
      "The precision is 0.9777777777777777\n",
      "The recall is 0.9777777777777777\n",
      "The F-score is 0.9777777777777777\n"
     ]
    }
   ],
   "source": [
    "decision_tree(train_dropped_X, train_dropped_y, test_dropped_X, test_dropped_y, 4)"
   ]
  },
  {
   "cell_type": "code",
   "execution_count": 227,
   "metadata": {},
   "outputs": [
    {
     "name": "stdout",
     "output_type": "stream",
     "text": [
      "The accuracy is 0.9777777777777777\n",
      "The precision is 0.9777777777777777\n",
      "The recall is 0.9777777777777777\n",
      "The F-score is 0.9777777777777777\n"
     ]
    }
   ],
   "source": [
    "#time to add new parameter value, using previous best\n",
    "decision_tree(train_dropped_X, train_dropped_y, test_dropped_X, test_dropped_y, 3, 2) "
   ]
  },
  {
   "cell_type": "code",
   "execution_count": 228,
   "metadata": {},
   "outputs": [
    {
     "name": "stdout",
     "output_type": "stream",
     "text": [
      "The accuracy is 0.9777777777777777\n",
      "The precision is 0.9777777777777777\n",
      "The recall is 0.9777777777777777\n",
      "The F-score is 0.9777777777777777\n"
     ]
    }
   ],
   "source": [
    "decision_tree(train_dropped_X, train_dropped_y, test_dropped_X, test_dropped_y, 3, 3)"
   ]
  },
  {
   "cell_type": "code",
   "execution_count": 229,
   "metadata": {},
   "outputs": [
    {
     "name": "stdout",
     "output_type": "stream",
     "text": [
      "The accuracy is 0.9777777777777777\n",
      "The precision is 0.9777777777777777\n",
      "The recall is 0.9777777777777777\n",
      "The F-score is 0.9777777777777777\n"
     ]
    }
   ],
   "source": [
    "decision_tree(train_dropped_X, train_dropped_y, test_dropped_X, test_dropped_y, 3, 4)"
   ]
  },
  {
   "cell_type": "markdown",
   "metadata": {},
   "source": [
    "<h4>4. Model: KNN; DataFrame: test_mean </h4>"
   ]
  },
  {
   "cell_type": "code",
   "execution_count": 211,
   "metadata": {},
   "outputs": [
    {
     "name": "stdout",
     "output_type": "stream",
     "text": [
      "The accuracy is 0.9333333333333333\n",
      "The precision is 0.9333333333333333\n",
      "The recall is 0.9333333333333333\n",
      "The F-score is 0.9333333333333333\n"
     ]
    }
   ],
   "source": [
    "#3 neighbors\n",
    "knn(train_mean_X, train_mean_y, test_mean_X, test_mean_y, 3, \"mean\")"
   ]
  },
  {
   "cell_type": "code",
   "execution_count": 212,
   "metadata": {},
   "outputs": [
    {
     "name": "stdout",
     "output_type": "stream",
     "text": [
      "The accuracy is 0.9111111111111111\n",
      "The precision is 0.9111111111111111\n",
      "The recall is 0.9111111111111111\n",
      "The F-score is 0.9111111111111111\n"
     ]
    }
   ],
   "source": [
    "#5 neighbors\n",
    "knn(train_mean_X, train_mean_y, test_mean_X, test_mean_y, 5, \"mean\")"
   ]
  },
  {
   "cell_type": "code",
   "execution_count": 213,
   "metadata": {},
   "outputs": [
    {
     "name": "stdout",
     "output_type": "stream",
     "text": [
      "The accuracy is 0.9333333333333333\n",
      "The precision is 0.9333333333333333\n",
      "The recall is 0.9333333333333333\n",
      "The F-score is 0.9333333333333333\n"
     ]
    }
   ],
   "source": [
    "#7 neighbors\n",
    "knn(train_mean_X, train_mean_y, test_mean_X, test_mean_y, 7, \"mean\")"
   ]
  },
  {
   "cell_type": "code",
   "execution_count": 214,
   "metadata": {},
   "outputs": [
    {
     "name": "stdout",
     "output_type": "stream",
     "text": [
      "The accuracy is 0.9111111111111111\n",
      "The precision is 0.9111111111111111\n",
      "The recall is 0.9111111111111111\n",
      "The F-score is 0.9111111111111111\n"
     ]
    }
   ],
   "source": [
    "#11 neighbors\n",
    "knn(train_mean_X, train_mean_y, test_mean_X, test_mean_y, 11, \"mean\")"
   ]
  },
  {
   "cell_type": "code",
   "execution_count": 327,
   "metadata": {},
   "outputs": [
    {
     "name": "stdout",
     "output_type": "stream",
     "text": [
      "The accuracy is 0.9333333333333333\n",
      "The precision is [1.         0.88888889 0.91666667]\n",
      "The recall is [1.         0.94117647 0.84615385]\n",
      "The F-score is [1.         0.91428571 0.88      ]\n"
     ]
    }
   ],
   "source": [
    "#13 neighbors\n",
    "knn(train_mean_X, train_mean_y, test_mean_X, test_mean_y, 13, \"mean\")"
   ]
  },
  {
   "cell_type": "code",
   "execution_count": 328,
   "metadata": {},
   "outputs": [
    {
     "name": "stdout",
     "output_type": "stream",
     "text": [
      "The accuracy is 0.9333333333333333\n",
      "The precision is [1.         0.88888889 0.91666667]\n",
      "The recall is [1.         0.94117647 0.84615385]\n",
      "The F-score is [1.         0.91428571 0.88      ]\n"
     ]
    }
   ],
   "source": [
    "#17 neighbors\n",
    "knn(train_mean_X, train_mean_y, test_mean_X, test_mean_y, 17, \"mean\")"
   ]
  },
  {
   "cell_type": "code",
   "execution_count": 329,
   "metadata": {},
   "outputs": [
    {
     "name": "stdout",
     "output_type": "stream",
     "text": [
      "The accuracy is 0.9333333333333333\n",
      "The precision is [1.         0.88888889 0.91666667]\n",
      "The recall is [1.         0.94117647 0.84615385]\n",
      "The F-score is [1.         0.91428571 0.88      ]\n"
     ]
    }
   ],
   "source": [
    "#21 neighbors\n",
    "knn(train_mean_X, train_mean_y, test_mean_X, test_mean_y, 21, \"mean\")"
   ]
  },
  {
   "cell_type": "code",
   "execution_count": 330,
   "metadata": {},
   "outputs": [
    {
     "name": "stdout",
     "output_type": "stream",
     "text": [
      "The accuracy is 0.9333333333333333\n",
      "The precision is [1.         0.88888889 0.91666667]\n",
      "The recall is [1.         0.94117647 0.84615385]\n",
      "The F-score is [1.         0.91428571 0.88      ]\n"
     ]
    }
   ],
   "source": [
    "#23 neighbors\n",
    "knn(train_mean_X, train_mean_y, test_mean_X, test_mean_y, 23, \"mean\")"
   ]
  },
  {
   "cell_type": "code",
   "execution_count": 331,
   "metadata": {},
   "outputs": [
    {
     "name": "stdout",
     "output_type": "stream",
     "text": [
      "The accuracy is 0.9333333333333333\n",
      "The precision is [1.         0.88888889 0.91666667]\n",
      "The recall is [1.         0.94117647 0.84615385]\n",
      "The F-score is [1.         0.91428571 0.88      ]\n"
     ]
    }
   ],
   "source": [
    "#29 neighbors\n",
    "knn(train_mean_X, train_mean_y, test_mean_X, test_mean_y, 29, \"mean\")"
   ]
  },
  {
   "cell_type": "code",
   "execution_count": 332,
   "metadata": {},
   "outputs": [
    {
     "name": "stdout",
     "output_type": "stream",
     "text": [
      "The accuracy is 0.9333333333333333\n",
      "The precision is [1.         0.88888889 0.91666667]\n",
      "The recall is [0.9375     0.94117647 0.91666667]\n",
      "The F-score is [0.96774194 0.91428571 0.91666667]\n"
     ]
    }
   ],
   "source": [
    "#51 neighbors\n",
    "knn(train_mean_X, train_mean_y, test_mean_X, test_mean_y, 51, \"mean\")"
   ]
  },
  {
   "cell_type": "markdown",
   "metadata": {},
   "source": [
    "<h4>5. Model: SVM; DataFrame: test_mean </h4>"
   ]
  },
  {
   "cell_type": "code",
   "execution_count": 215,
   "metadata": {},
   "outputs": [
    {
     "name": "stdout",
     "output_type": "stream",
     "text": [
      "The accuracy is 0.9555555555555556\n",
      "The precision is 0.9555555555555556\n",
      "The recall is 0.9555555555555556\n",
      "The F-score is 0.9555555555555556\n"
     ]
    }
   ],
   "source": [
    "#It must be one of ‘linear’, ‘poly’, ‘rbf’, ‘sigmoid’, ‘precomputed’\n",
    "svm(train_mean_X, train_mean_y, test_mean_X, test_mean_y, 'rbf', \"mean\")"
   ]
  },
  {
   "cell_type": "code",
   "execution_count": 216,
   "metadata": {},
   "outputs": [
    {
     "name": "stdout",
     "output_type": "stream",
     "text": [
      "The accuracy is 0.9333333333333333\n",
      "The precision is 0.9333333333333333\n",
      "The recall is 0.9333333333333333\n",
      "The F-score is 0.9333333333333333\n"
     ]
    }
   ],
   "source": [
    "svm(train_mean_X, train_mean_y, test_mean_X, test_mean_y, 'linear', \"mean\")"
   ]
  },
  {
   "cell_type": "code",
   "execution_count": 217,
   "metadata": {},
   "outputs": [
    {
     "name": "stdout",
     "output_type": "stream",
     "text": [
      "The accuracy is 0.8888888888888888\n",
      "The precision is 0.8888888888888888\n",
      "The recall is 0.8888888888888888\n",
      "The F-score is 0.8888888888888888\n"
     ]
    }
   ],
   "source": [
    "svm(train_mean_X, train_mean_y, test_mean_X, test_mean_y, 'poly', \"mean\")"
   ]
  },
  {
   "cell_type": "code",
   "execution_count": 218,
   "metadata": {},
   "outputs": [
    {
     "name": "stdout",
     "output_type": "stream",
     "text": [
      "The accuracy is 0.26666666666666666\n",
      "The precision is 0.26666666666666666\n",
      "The recall is 0.26666666666666666\n",
      "The F-score is 0.26666666666666666\n"
     ]
    }
   ],
   "source": [
    "svm(train_mean_X, train_mean_y, test_mean_X, test_mean_y, 'sigmoid', \"mean\") #same effect as on first data frame"
   ]
  },
  {
   "cell_type": "markdown",
   "metadata": {},
   "source": [
    "<h4>6. Model: DecisionTree; DataFrame: test_mean </h4>"
   ]
  },
  {
   "cell_type": "code",
   "execution_count": 248,
   "metadata": {},
   "outputs": [
    {
     "name": "stdout",
     "output_type": "stream",
     "text": [
      "The accuracy is 0.9111111111111111\n",
      "The precision is 0.9111111111111111\n",
      "The recall is 0.9111111111111111\n",
      "The F-score is 0.9111111111111111\n"
     ]
    }
   ],
   "source": [
    "decision_tree(train_mean_X, train_mean_y, test_mean_X, test_mean_y, data_set=\"mean\")"
   ]
  },
  {
   "cell_type": "code",
   "execution_count": 249,
   "metadata": {},
   "outputs": [
    {
     "name": "stdout",
     "output_type": "stream",
     "text": [
      "The accuracy is 0.8888888888888888\n",
      "The precision is 0.8888888888888888\n",
      "The recall is 0.8888888888888888\n",
      "The F-score is 0.8888888888888888\n"
     ]
    }
   ],
   "source": [
    "decision_tree(train_mean_X, train_mean_y, test_mean_X, test_mean_y, 2, data_set=\"mean\")"
   ]
  },
  {
   "cell_type": "code",
   "execution_count": 250,
   "metadata": {},
   "outputs": [
    {
     "name": "stdout",
     "output_type": "stream",
     "text": [
      "The accuracy is 0.8888888888888888\n",
      "The precision is 0.8888888888888888\n",
      "The recall is 0.8888888888888888\n",
      "The F-score is 0.8888888888888888\n"
     ]
    }
   ],
   "source": [
    "decision_tree(train_mean_X, train_mean_y, test_mean_X, test_mean_y, 3, data_set=\"mean\")"
   ]
  },
  {
   "cell_type": "code",
   "execution_count": 251,
   "metadata": {},
   "outputs": [
    {
     "name": "stdout",
     "output_type": "stream",
     "text": [
      "The accuracy is 0.8666666666666667\n",
      "The precision is 0.8666666666666667\n",
      "The recall is 0.8666666666666667\n",
      "The F-score is 0.8666666666666667\n"
     ]
    }
   ],
   "source": [
    "decision_tree(train_mean_X, train_mean_y, test_mean_X, test_mean_y, 4, data_set=\"mean\")"
   ]
  },
  {
   "cell_type": "code",
   "execution_count": 252,
   "metadata": {},
   "outputs": [
    {
     "name": "stdout",
     "output_type": "stream",
     "text": [
      "The accuracy is 0.8888888888888888\n",
      "The precision is 0.8888888888888888\n",
      "The recall is 0.8888888888888888\n",
      "The F-score is 0.8888888888888888\n"
     ]
    }
   ],
   "source": [
    "decision_tree(train_mean_X, train_mean_y, test_mean_X, test_mean_y, 3, 2, data_set=\"mean\")"
   ]
  },
  {
   "cell_type": "code",
   "execution_count": 253,
   "metadata": {},
   "outputs": [
    {
     "name": "stdout",
     "output_type": "stream",
     "text": [
      "The accuracy is 0.8888888888888888\n",
      "The precision is 0.8888888888888888\n",
      "The recall is 0.8888888888888888\n",
      "The F-score is 0.8888888888888888\n"
     ]
    }
   ],
   "source": [
    "decision_tree(train_mean_X, train_mean_y, test_mean_X, test_mean_y, 3, 3, data_set=\"mean\")"
   ]
  },
  {
   "cell_type": "code",
   "execution_count": 236,
   "metadata": {},
   "outputs": [
    {
     "name": "stdout",
     "output_type": "stream",
     "text": [
      "The accuracy is 0.8888888888888888\n",
      "The precision is 0.8888888888888888\n",
      "The recall is 0.8888888888888888\n",
      "The F-score is 0.8888888888888888\n"
     ]
    }
   ],
   "source": [
    "decision_tree(train_mean_X, train_mean_y, test_mean_X, test_mean_y, 3, 4, data_set=\"mean\")"
   ]
  },
  {
   "cell_type": "code",
   "execution_count": 237,
   "metadata": {},
   "outputs": [
    {
     "name": "stdout",
     "output_type": "stream",
     "text": [
      "The accuracy is 0.8888888888888888\n",
      "The precision is 0.8888888888888888\n",
      "The recall is 0.8888888888888888\n",
      "The F-score is 0.8888888888888888\n"
     ]
    }
   ],
   "source": [
    "decision_tree(train_mean_X, train_mean_y, test_mean_X, test_mean_y, 2, 2, data_set=\"mean\")"
   ]
  },
  {
   "cell_type": "markdown",
   "metadata": {},
   "source": [
    "<h3>Model building using selected features: Sepal width & length </h3>"
   ]
  },
  {
   "cell_type": "markdown",
   "metadata": {},
   "source": [
    "Lets check if using only variables with lower correlation to Species and to each other give us some conclusions. We will use only basic tests, without paramter tunning (using only the best from all features), just to compare using all, sepals only and petals only. We will use both sets for that task."
   ]
  },
  {
   "cell_type": "code",
   "execution_count": 393,
   "metadata": {},
   "outputs": [],
   "source": [
    "sepal_data_features = ['SepalLength', 'SepalWidth']"
   ]
  },
  {
   "cell_type": "code",
   "execution_count": 394,
   "metadata": {},
   "outputs": [],
   "source": [
    "sepal_train_dropped_X = train_dropped[sepal_data_features] # taking the training data features\n",
    "sepal_train_dropped_y=train_dropped.Species # output of our training data\n",
    "sepal_test_dropped_X= test_dropped[sepal_data_features] # taking test data features\n",
    "sepal_test_dropped_y =test_dropped.Species   #output value of test data"
   ]
  },
  {
   "cell_type": "code",
   "execution_count": 395,
   "metadata": {},
   "outputs": [],
   "source": [
    "sepal_train_mean_X = train_mean[sepal_data_features] # taking the training data features\n",
    "sepal_train_mean_y=train_mean.Species # output of our training data\n",
    "sepal_test_mean_X= test_mean[sepal_data_features] # taking test data features\n",
    "sepal_test_mean_y =test_mean.Species   #output value of test data"
   ]
  },
  {
   "cell_type": "markdown",
   "metadata": {},
   "source": [
    "<h4>KNN</h4>"
   ]
  },
  {
   "cell_type": "code",
   "execution_count": 396,
   "metadata": {},
   "outputs": [
    {
     "name": "stdout",
     "output_type": "stream",
     "text": [
      "Dataset: dropped missing, sepal only features\n",
      "The accuracy is 0.7555555555555555\n",
      "The precision is [0.91666667 0.6875     0.70588235]\n",
      "The recall is [1.         0.64705882 0.70588235]\n",
      "The F-score is [0.95652174 0.66666667 0.70588235]\n"
     ]
    }
   ],
   "source": [
    "print(\"Dataset: dropped missing, sepal only features\")\n",
    "knn(sepal_train_dropped_X, sepal_train_dropped_y, sepal_test_dropped_X, sepal_test_dropped_y, 7, data_set= \"sepal_drop\")"
   ]
  },
  {
   "cell_type": "code",
   "execution_count": 397,
   "metadata": {},
   "outputs": [
    {
     "name": "stdout",
     "output_type": "stream",
     "text": [
      "Dataset: mean value for missing, sepal only features\n",
      "The accuracy is 0.7777777777777778\n",
      "The precision is [0.91666667 0.8125     0.64705882]\n",
      "The recall is [1.         0.65       0.78571429]\n",
      "The F-score is [0.95652174 0.72222222 0.70967742]\n"
     ]
    }
   ],
   "source": [
    "print(\"Dataset: mean value for missing, sepal only features\")\n",
    "knn(sepal_train_mean_X, sepal_train_mean_y, sepal_test_mean_X, sepal_test_mean_y, 7, data_set= \"sepal_mean\")"
   ]
  },
  {
   "cell_type": "markdown",
   "metadata": {},
   "source": [
    "<h4>SVM</h4>"
   ]
  },
  {
   "cell_type": "code",
   "execution_count": 398,
   "metadata": {},
   "outputs": [
    {
     "name": "stdout",
     "output_type": "stream",
     "text": [
      "Dataset: dropped missing, sepal only features\n",
      "The accuracy is 0.8\n",
      "The precision is [0.91666667 0.75       0.76470588]\n",
      "The recall is [1.         0.70588235 0.76470588]\n",
      "The F-score is [0.95652174 0.72727273 0.76470588]\n"
     ]
    }
   ],
   "source": [
    "print(\"Dataset: dropped missing, sepal only features\")\n",
    "svm(sepal_train_dropped_X, sepal_train_dropped_y, sepal_test_dropped_X, sepal_test_dropped_y, data_set= \"sepal_drop\")"
   ]
  },
  {
   "cell_type": "code",
   "execution_count": 399,
   "metadata": {},
   "outputs": [
    {
     "name": "stdout",
     "output_type": "stream",
     "text": [
      "Dataset: mean value for missing, sepal only features\n",
      "The accuracy is 0.7111111111111111\n",
      "The precision is [0.91666667 0.625      0.64705882]\n",
      "The recall is [1.         0.58823529 0.64705882]\n",
      "The F-score is [0.95652174 0.60606061 0.64705882]\n"
     ]
    }
   ],
   "source": [
    "print(\"Dataset: mean value for missing, sepal only features\")\n",
    "svm(sepal_train_mean_X, sepal_train_mean_y, sepal_test_mean_X, sepal_test_mean_y, data_set= \"sepal_mean\")"
   ]
  },
  {
   "cell_type": "markdown",
   "metadata": {},
   "source": [
    "<h4>Decision tree</h4>"
   ]
  },
  {
   "cell_type": "code",
   "execution_count": 400,
   "metadata": {},
   "outputs": [
    {
     "name": "stdout",
     "output_type": "stream",
     "text": [
      "Dataset: dropped missing, sepal only features\n",
      "The accuracy is 0.6444444444444445\n",
      "The precision is [0.91666667 0.5625     0.52941176]\n",
      "The recall is [0.91666667 0.5        0.6       ]\n",
      "The F-score is [0.91666667 0.52941176 0.5625    ]\n"
     ]
    }
   ],
   "source": [
    "print(\"Dataset: dropped missing, sepal only features\")\n",
    "decision_tree(sepal_train_dropped_X, sepal_train_dropped_y, sepal_test_dropped_X, sepal_test_dropped_y, data_set= \"sepal_drop\")"
   ]
  },
  {
   "cell_type": "code",
   "execution_count": 401,
   "metadata": {},
   "outputs": [
    {
     "name": "stdout",
     "output_type": "stream",
     "text": [
      "Dataset: mean value for missing, sepal only features\n",
      "The accuracy is 0.6222222222222222\n",
      "The precision is [0.91666667 0.4375     0.58823529]\n",
      "The recall is [0.84615385 0.46666667 0.58823529]\n",
      "The F-score is [0.88       0.4516129  0.58823529]\n"
     ]
    }
   ],
   "source": [
    "print(\"Dataset: mean value for missing, sepal only features\")\n",
    "decision_tree(sepal_train_mean_X, sepal_train_mean_y, sepal_test_mean_X, sepal_test_mean_y, data_set= \"sepal_mean\")"
   ]
  },
  {
   "cell_type": "markdown",
   "metadata": {},
   "source": [
    "<h3>Model building using selected features: Petal width & length </h3>"
   ]
  },
  {
   "cell_type": "code",
   "execution_count": 402,
   "metadata": {},
   "outputs": [],
   "source": [
    "petal_data_features = ['PetalLength', 'PetalWidth']"
   ]
  },
  {
   "cell_type": "code",
   "execution_count": 403,
   "metadata": {},
   "outputs": [],
   "source": [
    "petal_train_dropped_X = train_dropped[petal_data_features] # taking the training data features\n",
    "petal_train_dropped_y=train_dropped.Species # output of our training data\n",
    "petal_test_dropped_X= test_dropped[petal_data_features] # taking test data features\n",
    "petal_test_dropped_y =test_dropped.Species   #output value of test data"
   ]
  },
  {
   "cell_type": "code",
   "execution_count": 404,
   "metadata": {},
   "outputs": [],
   "source": [
    "petal_train_mean_X = train_mean[petal_data_features] # taking the training data features\n",
    "petal_train_mean_y=train_mean.Species # output of our training data\n",
    "petal_test_mean_X= test_mean[petal_data_features] # taking test data features\n",
    "petal_test_mean_y =test_mean.Species   #output value of test data"
   ]
  },
  {
   "cell_type": "markdown",
   "metadata": {},
   "source": [
    "<h4>KNN</h4>"
   ]
  },
  {
   "cell_type": "code",
   "execution_count": 405,
   "metadata": {},
   "outputs": [
    {
     "name": "stdout",
     "output_type": "stream",
     "text": [
      "Dataset: dropped missing, petal only features\n",
      "The accuracy is 0.9777777777777777\n",
      "The precision is [1.     0.9375 1.    ]\n",
      "The recall is [1.         1.         0.94444444]\n",
      "The F-score is [1.         0.96774194 0.97142857]\n"
     ]
    }
   ],
   "source": [
    "print(\"Dataset: dropped missing, petal only features\")\n",
    "knn(petal_train_dropped_X, petal_train_dropped_y, petal_test_dropped_X, petal_test_dropped_y, 7, data_set= \"petal_drop\")"
   ]
  },
  {
   "cell_type": "code",
   "execution_count": 409,
   "metadata": {},
   "outputs": [
    {
     "name": "stdout",
     "output_type": "stream",
     "text": [
      "Dataset: mean value for missing, petal only features\n",
      "The accuracy is 0.9111111111111111\n",
      "The precision is [1.         0.875      0.88235294]\n",
      "The recall is [1.         0.875      0.88235294]\n",
      "The F-score is [1.         0.875      0.88235294]\n"
     ]
    }
   ],
   "source": [
    "print(\"Dataset: mean value for missing, petal only features\")\n",
    "knn(petal_train_mean_X, petal_train_mean_y, petal_test_mean_X, petal_test_mean_y, 7, data_set= \"petal_mean\")"
   ]
  },
  {
   "cell_type": "markdown",
   "metadata": {},
   "source": [
    "<h4>SVM</h4>"
   ]
  },
  {
   "cell_type": "code",
   "execution_count": 407,
   "metadata": {},
   "outputs": [
    {
     "name": "stdout",
     "output_type": "stream",
     "text": [
      "Dataset: dropped missing, petal only features\n",
      "The accuracy is 0.9777777777777777\n",
      "The precision is [1.     0.9375 1.    ]\n",
      "The recall is [1.         1.         0.94444444]\n",
      "The F-score is [1.         0.96774194 0.97142857]\n"
     ]
    }
   ],
   "source": [
    "print(\"Dataset: dropped missing, petal only features\")\n",
    "svm(petal_train_dropped_X, petal_train_dropped_y, petal_test_dropped_X, petal_test_dropped_y, data_set= \"petal_drop\")"
   ]
  },
  {
   "cell_type": "code",
   "execution_count": 410,
   "metadata": {},
   "outputs": [
    {
     "name": "stdout",
     "output_type": "stream",
     "text": [
      "Dataset: mean value for missing, petal only features\n",
      "The accuracy is 0.9333333333333333\n",
      "The precision is [1.         0.875      0.94117647]\n",
      "The recall is [1.         0.93333333 0.88888889]\n",
      "The F-score is [1.         0.90322581 0.91428571]\n"
     ]
    }
   ],
   "source": [
    "print(\"Dataset: mean value for missing, petal only features\")\n",
    "svm(petal_train_mean_X, petal_train_mean_y, petal_test_mean_X, petal_test_mean_y, data_set= \"petal_mean\")"
   ]
  },
  {
   "cell_type": "markdown",
   "metadata": {},
   "source": [
    "<h4>Decision tree</h4>"
   ]
  },
  {
   "cell_type": "code",
   "execution_count": 411,
   "metadata": {},
   "outputs": [
    {
     "name": "stdout",
     "output_type": "stream",
     "text": [
      "Dataset: dropped missing, petal only features\n",
      "The accuracy is 0.9777777777777777\n",
      "The precision is [1.     0.9375 1.    ]\n",
      "The recall is [1.         1.         0.94444444]\n",
      "The F-score is [1.         0.96774194 0.97142857]\n"
     ]
    }
   ],
   "source": [
    "print(\"Dataset: dropped missing, petal only features\")\n",
    "decision_tree(petal_train_dropped_X, petal_train_dropped_y, petal_test_dropped_X, petal_test_dropped_y, data_set= \"petal_drop\")"
   ]
  },
  {
   "cell_type": "code",
   "execution_count": 412,
   "metadata": {},
   "outputs": [
    {
     "name": "stdout",
     "output_type": "stream",
     "text": [
      "Dataset: mean value for missing, petal only features\n",
      "The accuracy is 0.8888888888888888\n",
      "The precision is [1.         0.875      0.82352941]\n",
      "The recall is [1.         0.82352941 0.875     ]\n",
      "The F-score is [1.         0.84848485 0.84848485]\n"
     ]
    }
   ],
   "source": [
    "print(\"Dataset: mean value for missing, petal only features\")\n",
    "decision_tree(petal_train_mean_X, petal_train_mean_y, petal_test_mean_X, petal_test_mean_y, data_set= \"petal_mean\")"
   ]
  },
  {
   "cell_type": "markdown",
   "metadata": {},
   "source": [
    "<h3>Models conclusions</h3>"
   ]
  },
  {
   "cell_type": "markdown",
   "metadata": {},
   "source": [
    "All features conslusions:\n",
    "* Best accuracy we've scorred using svn with right parameter,\n",
    "* as we can see in precision and recall lists - first class has better recall and precision score than two others\n",
    "\n",
    "Using less features:  \n",
    "* We have results as we expected - this is confirmation of correlation\n",
    "\n",
    "General conlusions:\n",
    "* dropping rows with missing/incorrect data give us better score than using global mean values to fill empty cells\n",
    "* probably we should investigate these missing samples - what data they contains, if they are some kind of outlines"
   ]
  },
  {
   "cell_type": "markdown",
   "metadata": {},
   "source": [
    "<h3>Let's investigate samples with missing data - after conclusion visualization of incomplete samples</h3>"
   ]
  },
  {
   "cell_type": "code",
   "execution_count": 96,
   "metadata": {},
   "outputs": [
    {
     "data": {
      "text/plain": [
       "array(['setosa', 'versicolor', 'virginica'], dtype=object)"
      ]
     },
     "execution_count": 96,
     "metadata": {},
     "output_type": "execute_result"
    }
   ],
   "source": [
    "conclusion_set = data_copy.copy()\n",
    "conclusion_set['SepalLength'] = conclusion_set['SepalLength'].where( conclusion_set['SepalLength'] > 0, np.nan)\n",
    "conclusion_set.Species.unique()"
   ]
  },
  {
   "cell_type": "code",
   "execution_count": 97,
   "metadata": {},
   "outputs": [
    {
     "name": "stdout",
     "output_type": "stream",
     "text": [
      "    SepalLength  SepalWidth  PetalLength  PetalWidth     Species\n",
      "25          NaN         3.4          1.9         0.2      setosa\n",
      "82          5.5         NaN          3.7         1.0  versicolor\n"
     ]
    }
   ],
   "source": [
    "null_columns=conclusion_set.columns[conclusion_set.isnull().any()]\n",
    "print(conclusion_set[conclusion_set.isnull().any(axis=1)].head())"
   ]
  },
  {
   "cell_type": "code",
   "execution_count": 98,
   "metadata": {},
   "outputs": [],
   "source": [
    "#dfz['C'] = np.where(dfz['E'].isnull(), dfz['E'], dfz['C'])\n",
    "#conclusion_set['Species'] = conclusion_set['Species'].where(conclusion_set.isnull(), \"missing\")\n",
    "#dfz.loc[dfz['E'].isnull(), 'C'] = dfz['E']\n",
    "conclusion_set.loc[25, 'Species'] = 'missed_setosa'\n",
    "conclusion_set.loc[82, 'Species'] = 'missed_versicolor'"
   ]
  },
  {
   "cell_type": "code",
   "execution_count": 99,
   "metadata": {},
   "outputs": [
    {
     "name": "stdout",
     "output_type": "stream",
     "text": [
      "    SepalLength  SepalWidth  PetalLength  PetalWidth            Species\n",
      "25          NaN         3.4          1.9         0.2      missed_setosa\n",
      "82          5.5         NaN          3.7         1.0  missed_versicolor\n"
     ]
    }
   ],
   "source": [
    "null_columns=conclusion_set.columns[conclusion_set.isnull().any()]\n",
    "print(conclusion_set[conclusion_set.isnull().any(axis=1)].head())"
   ]
  },
  {
   "cell_type": "code",
   "execution_count": 100,
   "metadata": {},
   "outputs": [],
   "source": [
    "conclusion_set.SepalLength = conclusion_set.SepalLength.fillna(conclusion_set.SepalLength.mean())\n",
    "conclusion_set.SepalWidth = conclusion_set.SepalWidth.fillna(conclusion_set.SepalWidth.mean())"
   ]
  },
  {
   "cell_type": "code",
   "execution_count": 101,
   "metadata": {},
   "outputs": [
    {
     "data": {
      "text/plain": [
       "array(['setosa', 'missed_setosa', 'versicolor', 'missed_versicolor',\n",
       "       'virginica'], dtype=object)"
      ]
     },
     "execution_count": 101,
     "metadata": {},
     "output_type": "execute_result"
    }
   ],
   "source": [
    "conclusion_set.Species.unique()"
   ]
  },
  {
   "cell_type": "code",
   "execution_count": 102,
   "metadata": {},
   "outputs": [
    {
     "name": "stdout",
     "output_type": "stream",
     "text": [
      "Empty DataFrame\n",
      "Columns: [SepalLength, SepalWidth, PetalLength, PetalWidth, Species]\n",
      "Index: []\n"
     ]
    }
   ],
   "source": [
    "null_columns=conclusion_set.columns[conclusion_set.isnull().any()]\n",
    "print(conclusion_set[conclusion_set.isnull().any(axis=1)].head())"
   ]
  },
  {
   "cell_type": "code",
   "execution_count": 103,
   "metadata": {},
   "outputs": [
    {
     "data": {
      "image/png": "[encoded data removed]",
      "text/plain": [
       "<Figure size 847.725x720 with 1 Axes>"
      ]
     },
     "metadata": {},
     "output_type": "display_data"
    }
   ],
   "source": [
    "plot = sns.FacetGrid(conclusion_set, hue=\"Species\", size=10).map(plt.scatter, \"SepalLength\", \"SepalWidth\").add_legend()\n",
    "plot.savefig('../reports/figures/scatter_missing.png')"
   ]
  },
  {
   "cell_type": "markdown",
   "metadata": {},
   "source": [
    "We have here two samples with missing values - now these NaN values are filled with mean value of all of samples in that column. \n",
    "We have one missed_setosa and as we can see, this one, with this value, is an outline for rest of data from this type. \n",
    "Second missing is missed versicolor sample and as we can see on a plot, it's not a outline - but SepalWidth value of this sample is significant bigger than most of samples of versicolor.  \n",
    "As a conclusion of that - dropping values or using mean value from specified type is better option than mean from whole population."
   ]
  },
  {
   "cell_type": "markdown",
   "metadata": {},
   "source": [
    "<h2> Testing additional features - creating new by using existing data </h2>"
   ]
  },
  {
   "cell_type": "code",
   "execution_count": 87,
   "metadata": {},
   "outputs": [],
   "source": [
    "new_feature_set = data_copy.copy()\n",
    "new_feature_set['SepalLength'] = new_feature_set['SepalLength'].where(new_feature_set['SepalLength'] > 0, np.nan)"
   ]
  },
  {
   "cell_type": "code",
   "execution_count": 88,
   "metadata": {},
   "outputs": [
    {
     "name": "stdout",
     "output_type": "stream",
     "text": [
      "    SepalLength  SepalWidth  PetalLength  PetalWidth     Species\n",
      "25          NaN         3.4          1.9         0.2      setosa\n",
      "82          5.5         NaN          3.7         1.0  versicolor\n"
     ]
    }
   ],
   "source": [
    "null_columns=new_feature_set.columns[new_feature_set.isnull().any()]\n",
    "print(new_feature_set[new_feature_set.isnull().any(axis=1)].head())"
   ]
  },
  {
   "cell_type": "code",
   "execution_count": 89,
   "metadata": {},
   "outputs": [
    {
     "data": {
      "text/html": [
       "<div>\n",
       "<style scoped>\n",
       "    .dataframe tbody tr th:only-of-type {\n",
       "        vertical-align: middle;\n",
       "    }\n",
       "\n",
       "    .dataframe tbody tr th {\n",
       "        vertical-align: top;\n",
       "    }\n",
       "\n",
       "    .dataframe thead th {\n",
       "        text-align: right;\n",
       "    }\n",
       "</style>\n",
       "<table border=\"1\" class=\"dataframe\">\n",
       "  <thead>\n",
       "    <tr style=\"text-align: right;\">\n",
       "      <th></th>\n",
       "      <th>SepalLength</th>\n",
       "      <th>SepalWidth</th>\n",
       "      <th>PetalLength</th>\n",
       "      <th>PetalWidth</th>\n",
       "    </tr>\n",
       "  </thead>\n",
       "  <tbody>\n",
       "    <tr>\n",
       "      <th>count</th>\n",
       "      <td>149.000000</td>\n",
       "      <td>149.000000</td>\n",
       "      <td>150.000000</td>\n",
       "      <td>150.000000</td>\n",
       "    </tr>\n",
       "    <tr>\n",
       "      <th>mean</th>\n",
       "      <td>5.850336</td>\n",
       "      <td>3.061745</td>\n",
       "      <td>3.758000</td>\n",
       "      <td>1.199333</td>\n",
       "    </tr>\n",
       "    <tr>\n",
       "      <th>std</th>\n",
       "      <td>0.826391</td>\n",
       "      <td>0.433963</td>\n",
       "      <td>1.765298</td>\n",
       "      <td>0.762238</td>\n",
       "    </tr>\n",
       "    <tr>\n",
       "      <th>min</th>\n",
       "      <td>4.300000</td>\n",
       "      <td>2.000000</td>\n",
       "      <td>1.000000</td>\n",
       "      <td>0.100000</td>\n",
       "    </tr>\n",
       "    <tr>\n",
       "      <th>25%</th>\n",
       "      <td>5.100000</td>\n",
       "      <td>2.800000</td>\n",
       "      <td>1.600000</td>\n",
       "      <td>0.300000</td>\n",
       "    </tr>\n",
       "    <tr>\n",
       "      <th>50%</th>\n",
       "      <td>5.800000</td>\n",
       "      <td>3.000000</td>\n",
       "      <td>4.350000</td>\n",
       "      <td>1.300000</td>\n",
       "    </tr>\n",
       "    <tr>\n",
       "      <th>75%</th>\n",
       "      <td>6.400000</td>\n",
       "      <td>3.300000</td>\n",
       "      <td>5.100000</td>\n",
       "      <td>1.800000</td>\n",
       "    </tr>\n",
       "    <tr>\n",
       "      <th>max</th>\n",
       "      <td>7.900000</td>\n",
       "      <td>4.400000</td>\n",
       "      <td>6.900000</td>\n",
       "      <td>2.500000</td>\n",
       "    </tr>\n",
       "  </tbody>\n",
       "</table>\n",
       "</div>"
      ],
      "text/plain": [
       "       SepalLength  SepalWidth  PetalLength  PetalWidth\n",
       "count   149.000000  149.000000   150.000000  150.000000\n",
       "mean      5.850336    3.061745     3.758000    1.199333\n",
       "std       0.826391    0.433963     1.765298    0.762238\n",
       "min       4.300000    2.000000     1.000000    0.100000\n",
       "25%       5.100000    2.800000     1.600000    0.300000\n",
       "50%       5.800000    3.000000     4.350000    1.300000\n",
       "75%       6.400000    3.300000     5.100000    1.800000\n",
       "max       7.900000    4.400000     6.900000    2.500000"
      ]
     },
     "execution_count": 89,
     "metadata": {},
     "output_type": "execute_result"
    }
   ],
   "source": [
    "new_feature_set.describe()"
   ]
  },
  {
   "cell_type": "markdown",
   "metadata": {},
   "source": [
    "Let's use conlusions from previous chapter - use mean value from specified group"
   ]
  },
  {
   "cell_type": "code",
   "execution_count": 92,
   "metadata": {},
   "outputs": [],
   "source": [
    "new_feature_set['SepalLength'] = new_feature_set['SepalLength'].fillna((new_feature_set[new_feature_set['Species'] == 'setosa']).mean()['SepalLength'])"
   ]
  },
  {
   "cell_type": "code",
   "execution_count": 93,
   "metadata": {},
   "outputs": [],
   "source": [
    "new_feature_set['SepalWidth'] = new_feature_set['SepalWidth'].fillna((new_feature_set[new_feature_set['Species'] == 'versicolor']).mean()['SepalWidth'])"
   ]
  },
  {
   "cell_type": "code",
   "execution_count": 94,
   "metadata": {},
   "outputs": [
    {
     "data": {
      "text/html": [
       "<div>\n",
       "<style scoped>\n",
       "    .dataframe tbody tr th:only-of-type {\n",
       "        vertical-align: middle;\n",
       "    }\n",
       "\n",
       "    .dataframe tbody tr th {\n",
       "        vertical-align: top;\n",
       "    }\n",
       "\n",
       "    .dataframe thead th {\n",
       "        text-align: right;\n",
       "    }\n",
       "</style>\n",
       "<table border=\"1\" class=\"dataframe\">\n",
       "  <thead>\n",
       "    <tr style=\"text-align: right;\">\n",
       "      <th></th>\n",
       "      <th>SepalLength</th>\n",
       "      <th>SepalWidth</th>\n",
       "      <th>PetalLength</th>\n",
       "      <th>PetalWidth</th>\n",
       "    </tr>\n",
       "  </thead>\n",
       "  <tbody>\n",
       "    <tr>\n",
       "      <th>count</th>\n",
       "      <td>150.000000</td>\n",
       "      <td>150.000000</td>\n",
       "      <td>150.000000</td>\n",
       "      <td>150.000000</td>\n",
       "    </tr>\n",
       "    <tr>\n",
       "      <th>mean</th>\n",
       "      <td>5.844735</td>\n",
       "      <td>3.059850</td>\n",
       "      <td>3.758000</td>\n",
       "      <td>1.199333</td>\n",
       "    </tr>\n",
       "    <tr>\n",
       "      <th>std</th>\n",
       "      <td>0.826465</td>\n",
       "      <td>0.433126</td>\n",
       "      <td>1.765298</td>\n",
       "      <td>0.762238</td>\n",
       "    </tr>\n",
       "    <tr>\n",
       "      <th>min</th>\n",
       "      <td>4.300000</td>\n",
       "      <td>2.000000</td>\n",
       "      <td>1.000000</td>\n",
       "      <td>0.100000</td>\n",
       "    </tr>\n",
       "    <tr>\n",
       "      <th>25%</th>\n",
       "      <td>5.100000</td>\n",
       "      <td>2.800000</td>\n",
       "      <td>1.600000</td>\n",
       "      <td>0.300000</td>\n",
       "    </tr>\n",
       "    <tr>\n",
       "      <th>50%</th>\n",
       "      <td>5.800000</td>\n",
       "      <td>3.000000</td>\n",
       "      <td>4.350000</td>\n",
       "      <td>1.300000</td>\n",
       "    </tr>\n",
       "    <tr>\n",
       "      <th>75%</th>\n",
       "      <td>6.400000</td>\n",
       "      <td>3.300000</td>\n",
       "      <td>5.100000</td>\n",
       "      <td>1.800000</td>\n",
       "    </tr>\n",
       "    <tr>\n",
       "      <th>max</th>\n",
       "      <td>7.900000</td>\n",
       "      <td>4.400000</td>\n",
       "      <td>6.900000</td>\n",
       "      <td>2.500000</td>\n",
       "    </tr>\n",
       "  </tbody>\n",
       "</table>\n",
       "</div>"
      ],
      "text/plain": [
       "       SepalLength  SepalWidth  PetalLength  PetalWidth\n",
       "count   150.000000  150.000000   150.000000  150.000000\n",
       "mean      5.844735    3.059850     3.758000    1.199333\n",
       "std       0.826465    0.433126     1.765298    0.762238\n",
       "min       4.300000    2.000000     1.000000    0.100000\n",
       "25%       5.100000    2.800000     1.600000    0.300000\n",
       "50%       5.800000    3.000000     4.350000    1.300000\n",
       "75%       6.400000    3.300000     5.100000    1.800000\n",
       "max       7.900000    4.400000     6.900000    2.500000"
      ]
     },
     "execution_count": 94,
     "metadata": {},
     "output_type": "execute_result"
    }
   ],
   "source": [
    "new_feature_set.describe()"
   ]
  },
  {
   "cell_type": "code",
   "execution_count": 104,
   "metadata": {},
   "outputs": [],
   "source": [
    "new_feature_set.loc[25, 'Species'] = 'missed_setosa'\n",
    "new_feature_set.loc[82, 'Species'] = 'missed_versicolor'"
   ]
  },
  {
   "cell_type": "code",
   "execution_count": 105,
   "metadata": {},
   "outputs": [
    {
     "data": {
      "image/png": "[encoded data removed]",
      "text/plain": [
       "<Figure size 847.725x720 with 1 Axes>"
      ]
     },
     "metadata": {},
     "output_type": "display_data"
    }
   ],
   "source": [
    "plot = sns.FacetGrid(new_feature_set, hue=\"Species\", size=10).map(plt.scatter, \"SepalLength\", \"SepalWidth\").add_legend()\n",
    "plot.savefig('../reports/figures/scatter_missing_local_mean.png')"
   ]
  },
  {
   "cell_type": "code",
   "execution_count": 108,
   "metadata": {},
   "outputs": [],
   "source": [
    "new_feature_set.loc[25, 'Species'] = 'setosa'\n",
    "new_feature_set.loc[82, 'Species'] = 'versicolor'"
   ]
  },
  {
   "cell_type": "code",
   "execution_count": 109,
   "metadata": {},
   "outputs": [
    {
     "data": {
      "text/plain": [
       "array(['setosa', 'versicolor', 'virginica'], dtype=object)"
      ]
     },
     "execution_count": 109,
     "metadata": {},
     "output_type": "execute_result"
    }
   ],
   "source": [
    "new_feature_set['Species'].unique()"
   ]
  },
  {
   "cell_type": "code",
   "execution_count": 110,
   "metadata": {},
   "outputs": [
    {
     "data": {
      "image/png": "[encoded data removed]",
      "text/plain": [
       "<Figure size 806.85x720 with 1 Axes>"
      ]
     },
     "metadata": {},
     "output_type": "display_data"
    }
   ],
   "source": [
    "plot = sns.FacetGrid(new_feature_set, hue=\"Species\", size=10).map(plt.scatter, \"SepalLength\", \"SepalWidth\").add_legend()\n",
    "plot.savefig('../reports/figures/scatter_local_mean.png')"
   ]
  },
  {
   "cell_type": "markdown",
   "metadata": {},
   "source": [
    "<h3> Sepal length:width ratio </h3>"
   ]
  },
  {
   "cell_type": "code",
   "execution_count": 111,
   "metadata": {},
   "outputs": [],
   "source": [
    "new_feature_set['ratio_sepal'] = new_feature_set['SepalLength']/new_feature_set['SepalWidth']"
   ]
  },
  {
   "cell_type": "markdown",
   "metadata": {},
   "source": [
    "<h3> Petal length:width ratio </h3>"
   ]
  },
  {
   "cell_type": "code",
   "execution_count": 112,
   "metadata": {},
   "outputs": [],
   "source": [
    "new_feature_set['ratio_petal'] = new_feature_set['PetalLength']/new_feature_set['PetalWidth']"
   ]
  },
  {
   "cell_type": "markdown",
   "metadata": {},
   "source": [
    "<h3> Correlation analyse </h3>"
   ]
  },
  {
   "cell_type": "code",
   "execution_count": 113,
   "metadata": {},
   "outputs": [
    {
     "data": {
      "text/html": [
       "<div>\n",
       "<style scoped>\n",
       "    .dataframe tbody tr th:only-of-type {\n",
       "        vertical-align: middle;\n",
       "    }\n",
       "\n",
       "    .dataframe tbody tr th {\n",
       "        vertical-align: top;\n",
       "    }\n",
       "\n",
       "    .dataframe thead th {\n",
       "        text-align: right;\n",
       "    }\n",
       "</style>\n",
       "<table border=\"1\" class=\"dataframe\">\n",
       "  <thead>\n",
       "    <tr style=\"text-align: right;\">\n",
       "      <th></th>\n",
       "      <th>SepalLength</th>\n",
       "      <th>SepalWidth</th>\n",
       "      <th>PetalLength</th>\n",
       "      <th>PetalWidth</th>\n",
       "      <th>Species</th>\n",
       "      <th>ratio_sepal</th>\n",
       "      <th>ratio_petal</th>\n",
       "    </tr>\n",
       "  </thead>\n",
       "  <tbody>\n",
       "    <tr>\n",
       "      <th>1</th>\n",
       "      <td>5.1</td>\n",
       "      <td>3.5</td>\n",
       "      <td>1.4</td>\n",
       "      <td>0.2</td>\n",
       "      <td>setosa</td>\n",
       "      <td>1.457143</td>\n",
       "      <td>7.0</td>\n",
       "    </tr>\n",
       "    <tr>\n",
       "      <th>2</th>\n",
       "      <td>4.9</td>\n",
       "      <td>3.0</td>\n",
       "      <td>1.4</td>\n",
       "      <td>0.2</td>\n",
       "      <td>setosa</td>\n",
       "      <td>1.633333</td>\n",
       "      <td>7.0</td>\n",
       "    </tr>\n",
       "    <tr>\n",
       "      <th>3</th>\n",
       "      <td>4.7</td>\n",
       "      <td>3.2</td>\n",
       "      <td>1.3</td>\n",
       "      <td>0.2</td>\n",
       "      <td>setosa</td>\n",
       "      <td>1.468750</td>\n",
       "      <td>6.5</td>\n",
       "    </tr>\n",
       "    <tr>\n",
       "      <th>4</th>\n",
       "      <td>4.6</td>\n",
       "      <td>3.1</td>\n",
       "      <td>1.5</td>\n",
       "      <td>0.2</td>\n",
       "      <td>setosa</td>\n",
       "      <td>1.483871</td>\n",
       "      <td>7.5</td>\n",
       "    </tr>\n",
       "    <tr>\n",
       "      <th>5</th>\n",
       "      <td>5.0</td>\n",
       "      <td>3.6</td>\n",
       "      <td>1.4</td>\n",
       "      <td>0.2</td>\n",
       "      <td>setosa</td>\n",
       "      <td>1.388889</td>\n",
       "      <td>7.0</td>\n",
       "    </tr>\n",
       "  </tbody>\n",
       "</table>\n",
       "</div>"
      ],
      "text/plain": [
       "   SepalLength  SepalWidth  PetalLength  PetalWidth Species  ratio_sepal  \\\n",
       "1          5.1         3.5          1.4         0.2  setosa     1.457143   \n",
       "2          4.9         3.0          1.4         0.2  setosa     1.633333   \n",
       "3          4.7         3.2          1.3         0.2  setosa     1.468750   \n",
       "4          4.6         3.1          1.5         0.2  setosa     1.483871   \n",
       "5          5.0         3.6          1.4         0.2  setosa     1.388889   \n",
       "\n",
       "   ratio_petal  \n",
       "1          7.0  \n",
       "2          7.0  \n",
       "3          6.5  \n",
       "4          7.5  \n",
       "5          7.0  "
      ]
     },
     "execution_count": 113,
     "metadata": {},
     "output_type": "execute_result"
    }
   ],
   "source": [
    "new_feature_set.head()"
   ]
  },
  {
   "cell_type": "code",
   "execution_count": 115,
   "metadata": {},
   "outputs": [
    {
     "data": {
      "text/plain": [
       "array([0, 1, 2], dtype=int64)"
      ]
     },
     "execution_count": 115,
     "metadata": {},
     "output_type": "execute_result"
    }
   ],
   "source": [
    "new_feature_set['SpeciesEncoded'] = le.transform(new_feature_set['Species'])\n",
    "new_feature_set['SpeciesEncoded'].unique()"
   ]
  },
  {
   "cell_type": "code",
   "execution_count": 130,
   "metadata": {},
   "outputs": [],
   "source": [
    "new_features = ['ratio_sepal', 'ratio_petal', 'Species']"
   ]
  },
  {
   "cell_type": "code",
   "execution_count": 116,
   "metadata": {},
   "outputs": [
    {
     "data": {
      "text/plain": [
       "SepalLength       0.781994\n",
       "SepalWidth       -0.429357\n",
       "PetalLength       0.949035\n",
       "PetalWidth        0.956547\n",
       "ratio_sepal       0.779237\n",
       "ratio_petal      -0.679061\n",
       "SpeciesEncoded    1.000000\n",
       "Name: SpeciesEncoded, dtype: float64"
      ]
     },
     "execution_count": 116,
     "metadata": {},
     "output_type": "execute_result"
    }
   ],
   "source": [
    "new_feature_set.corr()['SpeciesEncoded']"
   ]
  },
  {
   "cell_type": "code",
   "execution_count": 125,
   "metadata": {},
   "outputs": [],
   "source": [
    "if 'SpeciesEncoded' in new_feature_set.columns:\n",
    "    new_feature_set = new_feature_set.drop(columns=['SpeciesEncoded'])"
   ]
  },
  {
   "cell_type": "code",
   "execution_count": 133,
   "metadata": {},
   "outputs": [
    {
     "data": {
      "image/png": "[encoded data removed]",
      "text/plain": [
       "<Figure size 806.85x720 with 1 Axes>"
      ]
     },
     "metadata": {},
     "output_type": "display_data"
    }
   ],
   "source": [
    "plot = sns.FacetGrid(new_feature_set, hue=\"Species\", size=10).map(plt.scatter, \"ratio_sepal\", \"ratio_petal\").add_legend()\n",
    "plot.savefig('../reports/figures/scatter_ratios.png')"
   ]
  },
  {
   "cell_type": "markdown",
   "metadata": {},
   "source": [
    "As we can see, ratio_petal do not work very well - we have wide range of values. Looking into X axis - we have ratio_sepal. There is good separation of setosa samples, but stll we have problem with versicolor and virginica.  \n",
    "In conclusion, we can try using them - only them, all features (including these two new) and using only one at the moment.  \n",
    "To test their value, we will use only one model, with default parameters - for this test that will be kNN. "
   ]
  },
  {
   "cell_type": "code",
   "execution_count": 134,
   "metadata": {},
   "outputs": [],
   "source": [
    "features_list_new = ['ratio_sepal', 'ratio_petal']\n",
    "features_list_all = ['ratio_sepal', 'ratio_petal', 'SepalLength', 'SepalWidth', 'PetalLength', 'PetalWidth']\n",
    "features_list_ratio_sepal_only = ['SepalLength', 'SepalWidth', 'PetalLength', 'PetalWidth', 'ratio_sepal']\n",
    "features_list_ratio_petal_only = ['SepalLength', 'SepalWidth', 'PetalLength', 'PetalWidth', 'ratio_petal']"
   ]
  },
  {
   "cell_type": "code",
   "execution_count": 149,
   "metadata": {},
   "outputs": [],
   "source": [
    "train_feature, test_feature = train_test_split(new_feature_set, test_size = 0.3, random_state=seed)"
   ]
  },
  {
   "cell_type": "markdown",
   "metadata": {},
   "source": [
    "<h3> Basic only - reference to new features </h3>"
   ]
  },
  {
   "cell_type": "code",
   "execution_count": 163,
   "metadata": {},
   "outputs": [
    {
     "name": "stdout",
     "output_type": "stream",
     "text": [
      "(105, 4) (105,)\n"
     ]
    }
   ],
   "source": [
    "#new features only test\n",
    "train_feature_X = train_feature[data_features] # taking the training data features\n",
    "train_feature_y=train_feature.Species # output of our training data\n",
    "test_feature_X= test_feature[data_features] # taking test data features\n",
    "test_feature_y =test_feature.Species   #output value of test data\n",
    "print(train_feature_X.shape, train_feature_y.shape)"
   ]
  },
  {
   "cell_type": "code",
   "execution_count": 164,
   "metadata": {},
   "outputs": [
    {
     "name": "stdout",
     "output_type": "stream",
     "text": [
      "The accuracy is 0.9333333333333333\n",
      "The precision is [1.         0.9375     0.88235294]\n",
      "The recall is [1.         0.88235294 0.9375    ]\n",
      "The F-score is [1.         0.90909091 0.90909091]\n"
     ]
    }
   ],
   "source": [
    "knn(train_feature_X, train_feature_y, test_feature_X, test_feature_y, data_set=\"basic_features_test\")"
   ]
  },
  {
   "cell_type": "markdown",
   "metadata": {},
   "source": [
    "Using local mean value give us better accuracy score than using global mean value to fill missing/incorrect values - but this score is still lower than in case that we are dropping rows with missing/incorrect data."
   ]
  },
  {
   "cell_type": "markdown",
   "metadata": {},
   "source": [
    "<h3> New features only test </h3>"
   ]
  },
  {
   "cell_type": "code",
   "execution_count": 150,
   "metadata": {},
   "outputs": [
    {
     "name": "stdout",
     "output_type": "stream",
     "text": [
      "(105, 2) (105,)\n"
     ]
    }
   ],
   "source": [
    "#new features only test\n",
    "train_feature_X = train_feature[features_list_new] # taking the training data features\n",
    "train_feature_y=train_feature.Species # output of our training data\n",
    "test_feature_X= test_feature[features_list_new] # taking test data features\n",
    "test_feature_y =test_feature.Species   #output value of test data\n",
    "print(train_feature_X.shape, train_feature_y.shape)"
   ]
  },
  {
   "cell_type": "code",
   "execution_count": 151,
   "metadata": {},
   "outputs": [
    {
     "name": "stdout",
     "output_type": "stream",
     "text": [
      "The accuracy is 0.8444444444444444\n",
      "The precision is [0.91666667 0.9375     0.70588235]\n",
      "The recall is [1.         0.71428571 0.92307692]\n",
      "The F-score is [0.95652174 0.81081081 0.8       ]\n"
     ]
    }
   ],
   "source": [
    "knn(train_feature_X, train_feature_y, test_feature_X, test_feature_y, data_set=\"ratio_only_test\")"
   ]
  },
  {
   "cell_type": "markdown",
   "metadata": {},
   "source": [
    "<h3> All features test </h3>"
   ]
  },
  {
   "cell_type": "code",
   "execution_count": 152,
   "metadata": {},
   "outputs": [
    {
     "name": "stdout",
     "output_type": "stream",
     "text": [
      "(105, 6) (105,)\n"
     ]
    }
   ],
   "source": [
    "train_feature_X = train_feature[features_list_all] # taking the training data features\n",
    "train_feature_y=train_feature.Species # output of our training data\n",
    "test_feature_X= test_feature[features_list_all] # taking test data features\n",
    "test_feature_y =test_feature.Species   #output value of test data\n",
    "print(train_feature_X.shape, train_feature_y.shape)"
   ]
  },
  {
   "cell_type": "code",
   "execution_count": 153,
   "metadata": {},
   "outputs": [
    {
     "name": "stdout",
     "output_type": "stream",
     "text": [
      "The accuracy is 0.9333333333333333\n",
      "The precision is [1.         0.9375     0.88235294]\n",
      "The recall is [1.         0.88235294 0.9375    ]\n",
      "The F-score is [1.         0.90909091 0.90909091]\n"
     ]
    }
   ],
   "source": [
    "knn(train_feature_X, train_feature_y, test_feature_X, test_feature_y, data_set=\"all_features_test\")"
   ]
  },
  {
   "cell_type": "markdown",
   "metadata": {},
   "source": [
    "<h3> Basic + sepal ratio features test </h3>"
   ]
  },
  {
   "cell_type": "code",
   "execution_count": 157,
   "metadata": {},
   "outputs": [
    {
     "name": "stdout",
     "output_type": "stream",
     "text": [
      "(105, 5) (105,)\n"
     ]
    }
   ],
   "source": [
    "train_feature_X = train_feature[features_list_ratio_sepal_only] # taking the training data features\n",
    "train_feature_y=train_feature.Species # output of our training data\n",
    "test_feature_X= test_feature[features_list_ratio_sepal_only] # taking test data features\n",
    "test_feature_y =test_feature.Species   #output value of test data\n",
    "print(train_feature_X.shape, train_feature_y.shape)"
   ]
  },
  {
   "cell_type": "code",
   "execution_count": 158,
   "metadata": {},
   "outputs": [
    {
     "name": "stdout",
     "output_type": "stream",
     "text": [
      "The accuracy is 0.9111111111111111\n",
      "The precision is [1.         0.9375     0.82352941]\n",
      "The recall is [1.         0.83333333 0.93333333]\n",
      "The F-score is [1.         0.88235294 0.875     ]\n"
     ]
    }
   ],
   "source": [
    "knn(train_feature_X, train_feature_y, test_feature_X, test_feature_y, data_set=\"basic_sepal_features_test\")"
   ]
  },
  {
   "cell_type": "markdown",
   "metadata": {},
   "source": [
    "<h3> Basic + petal ratio features test </h3>"
   ]
  },
  {
   "cell_type": "code",
   "execution_count": 159,
   "metadata": {},
   "outputs": [
    {
     "name": "stdout",
     "output_type": "stream",
     "text": [
      "(105, 5) (105,)\n"
     ]
    }
   ],
   "source": [
    "train_feature_X = train_feature[features_list_ratio_petal_only] # taking the training data features\n",
    "train_feature_y=train_feature.Species # output of our training data\n",
    "test_feature_X= test_feature[features_list_ratio_petal_only] # taking test data features\n",
    "test_feature_y =test_feature.Species   #output value of test data\n",
    "print(train_feature_X.shape, train_feature_y.shape)"
   ]
  },
  {
   "cell_type": "code",
   "execution_count": 160,
   "metadata": {},
   "outputs": [
    {
     "name": "stdout",
     "output_type": "stream",
     "text": [
      "The accuracy is 0.9333333333333333\n",
      "The precision is [1.         0.9375     0.88235294]\n",
      "The recall is [1.         0.88235294 0.9375    ]\n",
      "The F-score is [1.         0.90909091 0.90909091]\n"
     ]
    }
   ],
   "source": [
    "knn(train_feature_X, train_feature_y, test_feature_X, test_feature_y, data_set=\"basic_petal_features_test\")"
   ]
  },
  {
   "cell_type": "markdown",
   "metadata": {},
   "source": [
    "<h3> Conclusion to new features tests </h3>"
   ]
  },
  {
   "cell_type": "markdown",
   "metadata": {},
   "source": [
    "As we can see after looking at results, adding these two additional features is not improving the accuracy score - maybe combination of them with only specified basic features will give better result of that. "
   ]
  },
  {
   "cell_type": "code",
   "execution_count": null,
   "metadata": {},
   "outputs": [],
   "source": []
  }
 ],
 "metadata": {
  "kernelspec": {
   "display_name": "Python 3",
   "language": "python",
   "name": "python3"
  },
  "language_info": {
   "codemirror_mode": {
    "name": "ipython",
    "version": 3
   },
   "file_extension": ".py",
   "mimetype": "text/x-python",
   "name": "python",
   "nbconvert_exporter": "python",
   "pygments_lexer": "ipython3",
   "version": "3.6.8"
  }
 },
 "nbformat": 4,
 "nbformat_minor": 2
}
